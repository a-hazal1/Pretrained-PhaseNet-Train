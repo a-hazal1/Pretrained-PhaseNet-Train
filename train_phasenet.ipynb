{
 "cells": [
  {
   "cell_type": "code",
   "execution_count": 3,
   "id": "de51d985",
   "metadata": {},
   "outputs": [
    {
     "name": "stdout",
     "output_type": "stream",
     "text": [
      "243 mseed dosyası bulundu\n"
     ]
    },
    {
     "name": "stderr",
     "output_type": "stream",
     "text": [
      "Dosyalar okunuyor: 100%|██████████| 243/243 [12:49<00:00,  3.17s/it]\n",
      "Grup işleniyor: 100%|██████████| 77556/77556 [01:01<00:00, 1270.91it/s]\n"
     ]
    },
    {
     "name": "stdout",
     "output_type": "stream",
     "text": [
      "\n",
      "✅ Dönüştürme tamamlandı\n",
      "- HDF5: /home/comp2/hazal_deprem/code/dataset_sb/waveforms_3ch_ps.hdf5\n",
      "- CSV : /home/comp2/hazal_deprem/code/dataset_sb/metadata_3ch_ps.csv\n",
      "- Kaydedilen örnek: 36372\n",
      "- Skip (hepsi None): 0\n",
      "- Skip (çok kısa):   28334\n",
      "- Skip (P yok):      0\n",
      "- Skip (S yok):      0\n",
      "- Skip (P&S yok):    12850\n"
     ]
    }
   ],
   "source": [
    "# -*- coding: utf-8 -*-\n",
    "# Deprem verilerini 3 kanallı (Z,N,E) HDF5 formatına dönüştürme\n",
    "# P ve S faz etiketleri de oluşturulur\n",
    "# Eksik kanallar sıfır ile doldurulur\n",
    "# Kayıtlar sabit uzunlukta (60s) ve örnekleme hız\n",
    "# 100 Hz olacak şekilde yeniden örneklenir\n",
    "# P ve S fazları STA/LTA ile otomatik olarak tespit edilir\n",
    "# Eksik fazlar için etiketler boş bırakılır\n",
    "import os, glob, h5py, warnings, traceback\n",
    "import numpy as np\n",
    "import pandas as pd\n",
    "from obspy import read, Stream, UTCDateTime\n",
    "from obspy.signal.filter import bandpass\n",
    "from obspy.signal.trigger import classic_sta_lta, trigger_onset\n",
    "from tqdm import tqdm\n",
    "\n",
    "# =========================\n",
    "# PARAMETRELER\n",
    "# =========================\n",
    "DATA_DIR        = \"/home/comp2/hazal_deprem/deprem_veri\"\n",
    "OUT_DIR         = \"dataset_sb\"\n",
    "H5_NAME         = \"waveforms_3ch_ps.hdf5\"\n",
    "CSV_NAME        = \"metadata_3ch_ps.csv\"\n",
    "\n",
    "TARGET_FS       = 100.0\n",
    "BP_LO, BP_HI    = 1.0, 20.0\n",
    "TARGET_LEN_SEC  = 60.0\n",
    "TARGET_LEN      = int(TARGET_FS * TARGET_LEN_SEC)\n",
    "\n",
    "STA_SEC, LTA_SEC = 0.5, 3.0\n",
    "TRIG_ON, TRIG_OFF = 2.0, 1.0       # bir tık daha hassas\n",
    "MIN_GAP_SEC     = 0.35\n",
    "FALLBACK_WIN_P  = 0.8\n",
    "FALLBACK_WIN_S  = 1.2\n",
    "\n",
    "# DAHA AZ SKIP İÇİN:\n",
    "REQUIRE_BOTH_P_AND_S = False       # <— öneri: P varsa kaydet; S yoksa da dursun\n",
    "NORMALIZE_PER_TRACE  = True\n",
    "\n",
    "# Z/N/E’yi eşleştirirken zaman toleransı:\n",
    "ALIGN_TOL_SEC   = 2.0\n",
    "\n",
    "def chan_letter(code: str) -> str:\n",
    "    return (code[-1].upper() if code else \"?\")\n",
    "\n",
    "def preprocess_and_resample(tr, target_fs, bp_lo, bp_hi):\n",
    "    tr = tr.copy()\n",
    "    tr.detrend(\"demean\")\n",
    "    tr.detrend(\"linear\")\n",
    "    fs = tr.stats.sampling_rate\n",
    "    if abs(fs - target_fs) > 1e-6:\n",
    "        tr.resample(target_fs)\n",
    "    tr.data = bandpass(tr.data, bp_lo, bp_hi, df=target_fs, corners=4, zerophase=True)\n",
    "    return tr\n",
    "\n",
    "def rms_normalize(x, eps=1e-8):\n",
    "    return x / (np.sqrt(np.mean(x**2) + eps) + eps)\n",
    "\n",
    "def pad_or_crop(arr, target_len):\n",
    "    if arr.ndim == 1:\n",
    "        n = arr.shape[0]\n",
    "        if n >= target_len: return arr[:target_len]\n",
    "        out = np.zeros(target_len, dtype=arr.dtype); out[:n] = arr; return out\n",
    "    elif arr.ndim == 2:\n",
    "        c, n = arr.shape\n",
    "        if n >= target_len: return arr[:, :target_len]\n",
    "        out = np.zeros((c, target_len), dtype=arr.dtype); out[:, :n] = arr; return out\n",
    "    else:\n",
    "        raise ValueError(\"pad_or_crop expects 1D or 2D\")\n",
    "\n",
    "def first_trigger_on_off(cft, on=TRIG_ON, off=TRIG_OFF):\n",
    "    idx = trigger_onset(cft, on, off)\n",
    "    if len(idx) == 0: return None, None\n",
    "    return idx[0][0], idx[0][1]\n",
    "\n",
    "def pick_P_S(z_sig, n_sig, e_sig, fs):\n",
    "    nsta = int(STA_SEC * fs)\n",
    "    nlta = int(LTA_SEC * fs)\n",
    "    if len(z_sig) < nlta or len(n_sig) < nlta or len(e_sig) < nlta:\n",
    "        return None, None, None, None\n",
    "    nsta = int(STA_SEC * fs); nlta = int(LTA_SEC * fs)\n",
    "    if nsta < 1 or nlta <= nsta: return None, None, None, None\n",
    "\n",
    "    cft_z = classic_sta_lta(z_sig, nsta, nlta)\n",
    "    p_on, p_off = first_trigger_on_off(cft_z, TRIG_ON, TRIG_OFF)\n",
    "\n",
    "    h_sig = np.sqrt(n_sig**2 + e_sig**2)\n",
    "    cft_h = classic_sta_lta(h_sig, nsta, nlta)\n",
    "\n",
    "    s_on, s_off = None, None\n",
    "    if p_on is not None:\n",
    "        start_search = (p_off if p_off is not None else p_on) + int(MIN_GAP_SEC * fs)\n",
    "        for a, b in trigger_onset(cft_h, TRIG_ON, TRIG_OFF):\n",
    "            if a >= start_search:\n",
    "                s_on, s_off = a, b\n",
    "                break\n",
    "    else:\n",
    "        s_on, s_off = first_trigger_on_off(cft_h, TRIG_ON, TRIG_OFF)\n",
    "\n",
    "    return p_on, p_off, s_on, s_off\n",
    "\n",
    "def build_label_vector(length, p_on, p_off, s_on, s_off, fs):\n",
    "    y = np.zeros(length, dtype=np.int8)\n",
    "    if p_on is not None:\n",
    "        pend = p_off if (p_off and p_off > p_on) else min(length, p_on + int(FALLBACK_WIN_P * fs))\n",
    "        pend = max(pend, p_on + 1); pend = min(pend, length)\n",
    "        y[p_on:pend] = 1\n",
    "    if s_on is not None:\n",
    "        send = s_off if (s_off and s_off > s_on) else min(length, s_on + int(FALLBACK_WIN_S * fs))\n",
    "        send = max(send, s_on + 1); send = min(send, length)\n",
    "        y[s_on:send] = 2\n",
    "    return y\n",
    "\n",
    "# -------- Zaman toleranslı eşleştirme --------\n",
    "def group_traces_with_tolerance(data_dir, tol_sec=ALIGN_TOL_SEC):\n",
    "    files = glob.glob(os.path.join(data_dir, \"**/*.mseed\"), recursive=True)\n",
    "    print(f\"{len(files)} mseed dosyası bulundu\")\n",
    "    # (net, sta) -> list of groups [{start: UTCDateTime, Z: np.array or None, N:..., E:...}]\n",
    "    by_station = {}\n",
    "    for f in tqdm(files, desc=\"Dosyalar okunuyor\"):\n",
    "        try:\n",
    "            st = read(f)\n",
    "        except Exception as e:\n",
    "            warnings.warn(f\"Okuma hatası: {f} | {e}\")\n",
    "            continue\n",
    "        for tr in st:\n",
    "            net, sta = tr.stats.network, tr.stats.station\n",
    "            ch = chan_letter(tr.stats.channel)\n",
    "            if ch not in (\"Z\",\"N\",\"E\"): \n",
    "                continue\n",
    "            # preprocess & resample BEFORE grouping to have comparable arrays\n",
    "            try:\n",
    "                tr_p = preprocess_and_resample(tr, TARGET_FS, BP_LO, BP_HI)\n",
    "            except Exception:\n",
    "                warnings.warn(f\"Önişleme hatası: {tr.id}\\n{traceback.format_exc()}\")\n",
    "                continue\n",
    "            start = tr_p.stats.starttime\n",
    "            data = tr_p.data.astype(np.float32)\n",
    "\n",
    "            key = (net, sta)\n",
    "            if key not in by_station:\n",
    "                by_station[key] = []\n",
    "\n",
    "            # uygun grup ara (start farkı <= tol_sec)\n",
    "            placed = False\n",
    "            for g in by_station[key]:\n",
    "                if abs(g[\"start\"] - start) <= tol_sec:\n",
    "                    g[ch] = data; placed = True; break\n",
    "            if not placed:\n",
    "                by_station[key].append({\"start\": start, \"Z\": None, \"N\": None, \"E\": None})\n",
    "                by_station[key][-1][ch] = data\n",
    "\n",
    "    # düz listeye çevir\n",
    "    groups = {}\n",
    "    for (net, sta), glist in by_station.items():\n",
    "        for i, g in enumerate(glist):\n",
    "            k = f\"{net}.{sta}:{g['start'].strftime('%Y%m%dT%H%M%S')}\"\n",
    "            groups[k] = {\"Z\": g[\"Z\"], \"N\": g[\"N\"], \"E\": g[\"E\"]}\n",
    "    return groups\n",
    "\n",
    "# ================= ÇALIŞTIR =================\n",
    "os.makedirs(OUT_DIR, exist_ok=True)\n",
    "h5_path  = os.path.join(OUT_DIR, H5_NAME)\n",
    "csv_path = os.path.join(OUT_DIR, CSV_NAME)\n",
    "\n",
    "groups = group_traces_with_tolerance(DATA_DIR, ALIGN_TOL_SEC)\n",
    "\n",
    "meta = []\n",
    "saved = 0\n",
    "skipped_none_all = 0\n",
    "skipped_too_short = 0\n",
    "skipped_no_P = 0\n",
    "skipped_no_S = 0\n",
    "skipped_no_PS = 0\n",
    "\n",
    "with h5py.File(h5_path, \"w\") as h5:\n",
    "    for key, chans in tqdm(groups.items(), desc=\"Grup işleniyor\"):\n",
    "        z, n, e = chans.get(\"Z\"), chans.get(\"N\"), chans.get(\"E\")\n",
    "        if z is None and n is None and e is None:\n",
    "            skipped_none_all += 1; continue\n",
    "\n",
    "        # eksikler 0 ile\n",
    "        if z is None: z = np.zeros(1, dtype=np.float32)\n",
    "        if n is None: n = np.zeros_like(z)\n",
    "        if e is None: e = np.zeros_like(z)\n",
    "\n",
    "        min_len = min(len(z), len(n), len(e))\n",
    "        if min_len < 200:  # çok kısa kayıtları ele\n",
    "            skipped_too_short += 1; continue\n",
    "        z, n, e = z[:min_len], n[:min_len], e[:min_len]\n",
    "\n",
    "        if NORMALIZE_PER_TRACE:\n",
    "            z = rms_normalize(z); n = rms_normalize(n); e = rms_normalize(e)\n",
    "\n",
    "        # --- P/S pick (pad/crop'tan ÖNCE) ---\n",
    "        p_on, p_off, s_on, s_off = pick_P_S(z, n, e, TARGET_FS)\n",
    "\n",
    "        # şimdi sabitle\n",
    "        z = pad_or_crop(z, TARGET_LEN)\n",
    "        n = pad_or_crop(n, TARGET_LEN)\n",
    "        e = pad_or_crop(e, TARGET_LEN)\n",
    "\n",
    "        y = build_label_vector(TARGET_LEN, p_on, p_off, s_on, s_off, TARGET_FS)\n",
    "\n",
    "        hasP = (1 in y); hasS = (2 in y)\n",
    "\n",
    "        if REQUIRE_BOTH_P_AND_S:\n",
    "            if (not hasP) and (not hasS):\n",
    "                skipped_no_PS += 1; continue\n",
    "            if not hasP:\n",
    "                skipped_no_P += 1; continue\n",
    "            if not hasS:\n",
    "                skipped_no_S += 1; continue\n",
    "        else:\n",
    "            if (not hasP) and (not hasS):\n",
    "                skipped_no_PS += 1; continue  # tamamen boşsa atla\n",
    "\n",
    "        data3 = np.stack([z, n, e], axis=0)\n",
    "        grp = h5.create_group(key)\n",
    "        grp.create_dataset(\"data\", data=data3, compression=\"gzip\")\n",
    "        grp.create_dataset(\"y\",    data=y,    compression=\"gzip\")\n",
    "\n",
    "        meta.append({\n",
    "            \"trace_name\": key, \"length\": int(TARGET_LEN), \"fs\": TARGET_FS,\n",
    "            \"has_P\": int(hasP), \"has_S\": int(hasS),\n",
    "            \"p_on\": int(p_on) if p_on is not None else -1,\n",
    "            \"p_off\": int(p_off) if p_off is not None else -1,\n",
    "            \"s_on\": int(s_on) if s_on is not None else -1,\n",
    "            \"s_off\": int(s_off) if s_off is not None else -1,\n",
    "        })\n",
    "        saved += 1\n",
    "\n",
    "pd.DataFrame(meta).to_csv(csv_path, index=False)\n",
    "\n",
    "print(\"\\n✅ Dönüştürme tamamlandı\")\n",
    "print(f\"- HDF5: {os.path.abspath(h5_path)}\")\n",
    "print(f\"- CSV : {os.path.abspath(csv_path)}\")\n",
    "print(f\"- Kaydedilen örnek: {saved}\")\n",
    "print(f\"- Skip (hepsi None): {skipped_none_all}\")\n",
    "print(f\"- Skip (çok kısa):   {skipped_too_short}\")\n",
    "print(f\"- Skip (P yok):      {skipped_no_P}\")\n",
    "print(f\"- Skip (S yok):      {skipped_no_S}\")\n",
    "print(f\"- Skip (P&S yok):    {skipped_no_PS}\")\n"
   ]
  },
  {
   "cell_type": "code",
   "execution_count": 1,
   "id": "e36eaf78",
   "metadata": {},
   "outputs": [
    {
     "name": "stdout",
     "output_type": "stream",
     "text": [
      "Device: cuda\n"
     ]
    }
   ],
   "source": [
    "import os, h5py, math, random, numpy as np\n",
    "import torch, torch.nn as nn, torch.optim as optim\n",
    "from torch.utils.data import Dataset, DataLoader\n",
    "from sklearn.model_selection import train_test_split\n",
    "from tqdm import tqdm\n",
    "\n",
    "# tekrar üretilebilirlik\n",
    "def set_seed(s=42):\n",
    "    random.seed(s); np.random.seed(s)\n",
    "    torch.manual_seed(s); torch.cuda.manual_seed_all(s)\n",
    "set_seed(42)\n",
    "\n",
    "# yol ve hiperparametreler\n",
    "H5_PATH = \"/home/comp2/hazal_deprem/code/dataset_sb/waveforms_3ch_ps.hdf5\"\n",
    "BATCH_SIZE = 8\n",
    "LR = 1e-4\n",
    "EPOCHS = 50\n",
    "PATIENCE = 6  # early stopping\n",
    "NUM_WORKERS = 4\n",
    "\n",
    "device = torch.device(\"cuda\" if torch.cuda.is_available() else \"cpu\")\n",
    "print(\"Device:\", device)\n"
   ]
  },
  {
   "cell_type": "code",
   "execution_count": 2,
   "id": "73c84095",
   "metadata": {},
   "outputs": [
    {
     "name": "stdout",
     "output_type": "stream",
     "text": [
      "Toplam örnek: 36372\n",
      "İstasyon sayısı: 281\n"
     ]
    }
   ],
   "source": [
    "# HDF5’i okuma (anahtarlar + istasyon kimliği çıkarma)\n",
    "# HDF5 iç yapısı: grup adı \"NET.STA:YYYYmmddTHHMMSS\", içinde:\n",
    "#  - data: (3, L)\n",
    "#  - y   : (L,) -> 0=boş, 1=P, 2=S\n",
    "\n",
    "with h5py.File(H5_PATH, \"r\") as f:\n",
    "    all_keys = list(f.keys())\n",
    "print(\"Toplam örnek:\", len(all_keys))\n",
    "\n",
    "def station_id_from_key(k: str):\n",
    "    # \"NET.STA:timestamp\" -> \"NET.STA\"\n",
    "    return k.split(\":\")[0]\n",
    "\n",
    "# istasyon bazlı kümeler (sızıntıyı önlemek için aynı STA train/val/test’e aynı anda girmesin)\n",
    "stations = sorted({station_id_from_key(k) for k in all_keys})\n",
    "print(\"İstasyon sayısı:\", len(stations))\n"
   ]
  },
  {
   "cell_type": "code",
   "execution_count": 4,
   "id": "c0422112",
   "metadata": {},
   "outputs": [
    {
     "name": "stdout",
     "output_type": "stream",
     "text": [
      "Train: 23316 | Val: 5993 | Test: 7063\n"
     ]
    }
   ],
   "source": [
    "# istasyonları önce train/val/test ayır, sonra o istasyonların tüm kayıtlarını ilgili bölüme ata\n",
    "train_stas, test_stas = train_test_split(stations, test_size=0.2, random_state=42)\n",
    "train_stas, val_stas  = train_test_split(train_stas, test_size=0.2, random_state=42)\n",
    "\n",
    "def keys_for(sta_list):\n",
    "    sset = set(sta_list)\n",
    "    return [k for k in all_keys if station_id_from_key(k) in sset]\n",
    "\n",
    "train_keys = keys_for(train_stas)\n",
    "val_keys   = keys_for(val_stas)\n",
    "test_keys  = keys_for(test_stas)\n",
    "\n",
    "print(f\"Train: {len(train_keys)} | Val: {len(val_keys)} | Test: {len(test_keys)}\")\n",
    "\n"
   ]
  },
  {
   "cell_type": "code",
   "execution_count": 5,
   "id": "1934fab3",
   "metadata": {},
   "outputs": [],
   "source": [
    "#Dataset sınıfı (mask’li hedef; 0’lar loss’tan hariç)\n",
    "class PhaseNetH5(Dataset):\n",
    "    \"\"\"\n",
    "    HDF5 PhaseNet formatı: data (3, L), y (L,)\n",
    "    y: 0=boş/alakasız, 1=P, 2=S\n",
    "    \"\"\"\n",
    "    def __init__(self, h5_path, keys):\n",
    "        self.h5_path = h5_path\n",
    "        self.keys = keys\n",
    "\n",
    "    def __len__(self):\n",
    "        return len(self.keys)\n",
    "\n",
    "    def __getitem__(self, idx):\n",
    "        key = self.keys[idx]\n",
    "        with h5py.File(self.h5_path, \"r\") as f:\n",
    "            x = f[key][\"data\"][:]  # (3, L)\n",
    "            y = f[key][\"y\"][:]     # (L,)\n",
    "\n",
    "        # tensöre çevir\n",
    "        x = torch.tensor(x, dtype=torch.float32)             # (3, L)\n",
    "        y = torch.tensor(y, dtype=torch.long)                # (L,)\n",
    "        return x, y\n",
    "\n",
    "# DataLoader'lar\n",
    "pin = (device.type == \"cuda\")\n",
    "train_ds = PhaseNetH5(H5_PATH, train_keys)\n",
    "val_ds   = PhaseNetH5(H5_PATH, val_keys)\n",
    "test_ds  = PhaseNetH5(H5_PATH, test_keys)\n",
    "\n",
    "train_loader = DataLoader(train_ds, batch_size=BATCH_SIZE, shuffle=True,\n",
    "                          num_workers=NUM_WORKERS, pin_memory=pin, drop_last=False)\n",
    "val_loader   = DataLoader(val_ds, batch_size=BATCH_SIZE, shuffle=False,\n",
    "                          num_workers=NUM_WORKERS, pin_memory=pin, drop_last=False)\n",
    "test_loader  = DataLoader(test_ds, batch_size=BATCH_SIZE, shuffle=False,\n",
    "                          num_workers=NUM_WORKERS, pin_memory=pin, drop_last=False)\n"
   ]
  },
  {
   "cell_type": "code",
   "execution_count": 6,
   "id": "c1269027",
   "metadata": {},
   "outputs": [
    {
     "name": "stderr",
     "output_type": "stream",
     "text": [
      "/tmp/ipykernel_14253/3103502185.py:10: FutureWarning: `torch.cuda.amp.GradScaler(args...)` is deprecated. Please use `torch.amp.GradScaler('cuda', args...)` instead.\n",
      "  scaler = torch.cuda.amp.GradScaler(enabled=(device.type==\"cuda\"))\n"
     ]
    }
   ],
   "source": [
    "#Modeli yükle (pretrained PhaseNet, 3-sınıf çıkış). Loss: CE(ignore_index=0)\n",
    "import seisbench.models as sbm\n",
    "\n",
    "model = sbm.PhaseNet.from_pretrained(\"ethz\").to(device)\n",
    "# Çıkış: (B, 3, L)  -> sınıflar: [Noise, P, S]  (pretrained böyle)\n",
    "# Bizim y: 0=boş, 1=P, 2=S. 0'ları loss'tan düşmek için ignore_index=0 kullanıyoruz.\n",
    "criterion = nn.CrossEntropyLoss(ignore_index=0)\n",
    "\n",
    "optimizer = optim.Adam(model.parameters(), lr=LR)\n",
    "scaler = torch.cuda.amp.GradScaler(enabled=(device.type==\"cuda\"))\n",
    "scheduler = optim.lr_scheduler.ReduceLROnPlateau(optimizer, mode=\"min\", factor=0.5, patience=2)\n"
   ]
  },
  {
   "cell_type": "code",
   "execution_count": 7,
   "id": "a8c81ed6",
   "metadata": {},
   "outputs": [
    {
     "name": "stderr",
     "output_type": "stream",
     "text": [
      "/tmp/ipykernel_14253/3732946393.py:21: FutureWarning: `torch.cuda.amp.GradScaler(args...)` is deprecated. Please use `torch.amp.GradScaler('cuda', args...)` instead.\n",
      "  scaler = torch.cuda.amp.GradScaler(enabled=(device.type==\"cuda\"))\n"
     ]
    },
    {
     "name": "stdout",
     "output_type": "stream",
     "text": [
      "Device: cuda\n"
     ]
    },
    {
     "name": "stderr",
     "output_type": "stream",
     "text": [
      "Train 1/50:   0%|          | 0/1458 [00:00<?, ?it/s]/tmp/ipykernel_14253/3732946393.py:55: FutureWarning: `torch.cuda.amp.autocast(args...)` is deprecated. Please use `torch.amp.autocast('cuda', args...)` instead.\n",
      "  with torch.cuda.amp.autocast(enabled=(device.type==\"cuda\")):\n",
      "/tmp/ipykernel_14253/3732946393.py:85: FutureWarning: `torch.cuda.amp.autocast(args...)` is deprecated. Please use `torch.amp.autocast('cuda', args...)` instead.\n",
      "  with torch.cuda.amp.autocast(enabled=(device.type==\"cuda\")):\n"
     ]
    },
    {
     "name": "stdout",
     "output_type": "stream",
     "text": [
      "[01] Train: 1.0374 | Val: 0.8470 | Train F1: 0.530 | Val F1: 0.750 | LR: 1.00e-04\n"
     ]
    },
    {
     "name": "stderr",
     "output_type": "stream",
     "text": [
      "Train 2/50:   0%|          | 0/1458 [00:00<?, ?it/s]/tmp/ipykernel_14253/3732946393.py:55: FutureWarning: `torch.cuda.amp.autocast(args...)` is deprecated. Please use `torch.amp.autocast('cuda', args...)` instead.\n",
      "  with torch.cuda.amp.autocast(enabled=(device.type==\"cuda\")):\n",
      "/tmp/ipykernel_14253/3732946393.py:85: FutureWarning: `torch.cuda.amp.autocast(args...)` is deprecated. Please use `torch.amp.autocast('cuda', args...)` instead.\n",
      "  with torch.cuda.amp.autocast(enabled=(device.type==\"cuda\")):\n"
     ]
    },
    {
     "name": "stdout",
     "output_type": "stream",
     "text": [
      "[02] Train: 0.8016 | Val: 0.7492 | Train F1: 0.795 | Val F1: 0.839 | LR: 1.00e-04\n"
     ]
    },
    {
     "name": "stderr",
     "output_type": "stream",
     "text": [
      "Train 3/50:   0%|          | 0/1458 [00:00<?, ?it/s]/tmp/ipykernel_14253/3732946393.py:55: FutureWarning: `torch.cuda.amp.autocast(args...)` is deprecated. Please use `torch.amp.autocast('cuda', args...)` instead.\n",
      "  with torch.cuda.amp.autocast(enabled=(device.type==\"cuda\")):\n",
      "/tmp/ipykernel_14253/3732946393.py:85: FutureWarning: `torch.cuda.amp.autocast(args...)` is deprecated. Please use `torch.amp.autocast('cuda', args...)` instead.\n",
      "  with torch.cuda.amp.autocast(enabled=(device.type==\"cuda\")):\n"
     ]
    },
    {
     "name": "stdout",
     "output_type": "stream",
     "text": [
      "[03] Train: 0.7524 | Val: 0.7205 | Train F1: 0.841 | Val F1: 0.868 | LR: 1.00e-04\n"
     ]
    },
    {
     "name": "stderr",
     "output_type": "stream",
     "text": [
      "Train 4/50:   0%|          | 0/1458 [00:00<?, ?it/s]/tmp/ipykernel_14253/3732946393.py:55: FutureWarning: `torch.cuda.amp.autocast(args...)` is deprecated. Please use `torch.amp.autocast('cuda', args...)` instead.\n",
      "  with torch.cuda.amp.autocast(enabled=(device.type==\"cuda\")):\n",
      "/tmp/ipykernel_14253/3732946393.py:85: FutureWarning: `torch.cuda.amp.autocast(args...)` is deprecated. Please use `torch.amp.autocast('cuda', args...)` instead.\n",
      "  with torch.cuda.amp.autocast(enabled=(device.type==\"cuda\")):\n"
     ]
    },
    {
     "name": "stdout",
     "output_type": "stream",
     "text": [
      "[04] Train: 0.7319 | Val: 0.7025 | Train F1: 0.861 | Val F1: 0.886 | LR: 1.00e-04\n"
     ]
    },
    {
     "name": "stderr",
     "output_type": "stream",
     "text": [
      "Train 5/50:   0%|          | 0/1458 [00:00<?, ?it/s]/tmp/ipykernel_14253/3732946393.py:55: FutureWarning: `torch.cuda.amp.autocast(args...)` is deprecated. Please use `torch.amp.autocast('cuda', args...)` instead.\n",
      "  with torch.cuda.amp.autocast(enabled=(device.type==\"cuda\")):\n",
      "/tmp/ipykernel_14253/3732946393.py:85: FutureWarning: `torch.cuda.amp.autocast(args...)` is deprecated. Please use `torch.amp.autocast('cuda', args...)` instead.\n",
      "  with torch.cuda.amp.autocast(enabled=(device.type==\"cuda\")):\n"
     ]
    },
    {
     "name": "stdout",
     "output_type": "stream",
     "text": [
      "[05] Train: 0.7172 | Val: 0.6958 | Train F1: 0.876 | Val F1: 0.892 | LR: 1.00e-04\n"
     ]
    },
    {
     "name": "stderr",
     "output_type": "stream",
     "text": [
      "Train 6/50:   0%|          | 0/1458 [00:00<?, ?it/s]/tmp/ipykernel_14253/3732946393.py:55: FutureWarning: `torch.cuda.amp.autocast(args...)` is deprecated. Please use `torch.amp.autocast('cuda', args...)` instead.\n",
      "  with torch.cuda.amp.autocast(enabled=(device.type==\"cuda\")):\n",
      "/tmp/ipykernel_14253/3732946393.py:85: FutureWarning: `torch.cuda.amp.autocast(args...)` is deprecated. Please use `torch.amp.autocast('cuda', args...)` instead.\n",
      "  with torch.cuda.amp.autocast(enabled=(device.type==\"cuda\")):\n"
     ]
    },
    {
     "name": "stdout",
     "output_type": "stream",
     "text": [
      "[06] Train: 0.7084 | Val: 0.6936 | Train F1: 0.886 | Val F1: 0.893 | LR: 1.00e-04\n"
     ]
    },
    {
     "name": "stderr",
     "output_type": "stream",
     "text": [
      "Train 7/50:   0%|          | 0/1458 [00:00<?, ?it/s]/tmp/ipykernel_14253/3732946393.py:55: FutureWarning: `torch.cuda.amp.autocast(args...)` is deprecated. Please use `torch.amp.autocast('cuda', args...)` instead.\n",
      "  with torch.cuda.amp.autocast(enabled=(device.type==\"cuda\")):\n",
      "/tmp/ipykernel_14253/3732946393.py:85: FutureWarning: `torch.cuda.amp.autocast(args...)` is deprecated. Please use `torch.amp.autocast('cuda', args...)` instead.\n",
      "  with torch.cuda.amp.autocast(enabled=(device.type==\"cuda\")):\n"
     ]
    },
    {
     "name": "stdout",
     "output_type": "stream",
     "text": [
      "[07] Train: 0.7009 | Val: 0.6851 | Train F1: 0.894 | Val F1: 0.904 | LR: 1.00e-04\n"
     ]
    },
    {
     "name": "stderr",
     "output_type": "stream",
     "text": [
      "Train 8/50:   0%|          | 0/1458 [00:00<?, ?it/s]/tmp/ipykernel_14253/3732946393.py:55: FutureWarning: `torch.cuda.amp.autocast(args...)` is deprecated. Please use `torch.amp.autocast('cuda', args...)` instead.\n",
      "  with torch.cuda.amp.autocast(enabled=(device.type==\"cuda\")):\n",
      "/tmp/ipykernel_14253/3732946393.py:85: FutureWarning: `torch.cuda.amp.autocast(args...)` is deprecated. Please use `torch.amp.autocast('cuda', args...)` instead.\n",
      "  with torch.cuda.amp.autocast(enabled=(device.type==\"cuda\")):\n"
     ]
    },
    {
     "name": "stdout",
     "output_type": "stream",
     "text": [
      "[08] Train: 0.6958 | Val: 0.6808 | Train F1: 0.899 | Val F1: 0.909 | LR: 1.00e-04\n"
     ]
    },
    {
     "name": "stderr",
     "output_type": "stream",
     "text": [
      "Train 9/50:   0%|          | 0/1458 [00:00<?, ?it/s]/tmp/ipykernel_14253/3732946393.py:55: FutureWarning: `torch.cuda.amp.autocast(args...)` is deprecated. Please use `torch.amp.autocast('cuda', args...)` instead.\n",
      "  with torch.cuda.amp.autocast(enabled=(device.type==\"cuda\")):\n",
      "/tmp/ipykernel_14253/3732946393.py:85: FutureWarning: `torch.cuda.amp.autocast(args...)` is deprecated. Please use `torch.amp.autocast('cuda', args...)` instead.\n",
      "  with torch.cuda.amp.autocast(enabled=(device.type==\"cuda\")):\n"
     ]
    },
    {
     "name": "stdout",
     "output_type": "stream",
     "text": [
      "[09] Train: 0.6911 | Val: 0.6801 | Train F1: 0.904 | Val F1: 0.911 | LR: 1.00e-04\n"
     ]
    },
    {
     "name": "stderr",
     "output_type": "stream",
     "text": [
      "Train 10/50:   0%|          | 0/1458 [00:00<?, ?it/s]/tmp/ipykernel_14253/3732946393.py:55: FutureWarning: `torch.cuda.amp.autocast(args...)` is deprecated. Please use `torch.amp.autocast('cuda', args...)` instead.\n",
      "  with torch.cuda.amp.autocast(enabled=(device.type==\"cuda\")):\n",
      "/tmp/ipykernel_14253/3732946393.py:85: FutureWarning: `torch.cuda.amp.autocast(args...)` is deprecated. Please use `torch.amp.autocast('cuda', args...)` instead.\n",
      "  with torch.cuda.amp.autocast(enabled=(device.type==\"cuda\")):\n"
     ]
    },
    {
     "name": "stdout",
     "output_type": "stream",
     "text": [
      "[10] Train: 0.6881 | Val: 0.6806 | Train F1: 0.908 | Val F1: 0.908 | LR: 1.00e-04\n"
     ]
    },
    {
     "name": "stderr",
     "output_type": "stream",
     "text": [
      "Train 11/50:   0%|          | 0/1458 [00:00<?, ?it/s]/tmp/ipykernel_14253/3732946393.py:55: FutureWarning: `torch.cuda.amp.autocast(args...)` is deprecated. Please use `torch.amp.autocast('cuda', args...)` instead.\n",
      "  with torch.cuda.amp.autocast(enabled=(device.type==\"cuda\")):\n",
      "/tmp/ipykernel_14253/3732946393.py:85: FutureWarning: `torch.cuda.amp.autocast(args...)` is deprecated. Please use `torch.amp.autocast('cuda', args...)` instead.\n",
      "  with torch.cuda.amp.autocast(enabled=(device.type==\"cuda\")):\n"
     ]
    },
    {
     "name": "stdout",
     "output_type": "stream",
     "text": [
      "[11] Train: 0.6851 | Val: 0.6762 | Train F1: 0.911 | Val F1: 0.915 | LR: 1.00e-04\n"
     ]
    },
    {
     "name": "stderr",
     "output_type": "stream",
     "text": [
      "Train 12/50:   0%|          | 0/1458 [00:00<?, ?it/s]/tmp/ipykernel_14253/3732946393.py:55: FutureWarning: `torch.cuda.amp.autocast(args...)` is deprecated. Please use `torch.amp.autocast('cuda', args...)` instead.\n",
      "  with torch.cuda.amp.autocast(enabled=(device.type==\"cuda\")):\n",
      "/tmp/ipykernel_14253/3732946393.py:85: FutureWarning: `torch.cuda.amp.autocast(args...)` is deprecated. Please use `torch.amp.autocast('cuda', args...)` instead.\n",
      "  with torch.cuda.amp.autocast(enabled=(device.type==\"cuda\")):\n"
     ]
    },
    {
     "name": "stdout",
     "output_type": "stream",
     "text": [
      "[12] Train: 0.6829 | Val: 0.6725 | Train F1: 0.914 | Val F1: 0.918 | LR: 1.00e-04\n"
     ]
    },
    {
     "name": "stderr",
     "output_type": "stream",
     "text": [
      "Train 13/50:   0%|          | 0/1458 [00:00<?, ?it/s]/tmp/ipykernel_14253/3732946393.py:55: FutureWarning: `torch.cuda.amp.autocast(args...)` is deprecated. Please use `torch.amp.autocast('cuda', args...)` instead.\n",
      "  with torch.cuda.amp.autocast(enabled=(device.type==\"cuda\")):\n",
      "/tmp/ipykernel_14253/3732946393.py:85: FutureWarning: `torch.cuda.amp.autocast(args...)` is deprecated. Please use `torch.amp.autocast('cuda', args...)` instead.\n",
      "  with torch.cuda.amp.autocast(enabled=(device.type==\"cuda\")):\n"
     ]
    },
    {
     "name": "stdout",
     "output_type": "stream",
     "text": [
      "[13] Train: 0.6798 | Val: 0.6735 | Train F1: 0.917 | Val F1: 0.919 | LR: 1.00e-04\n"
     ]
    },
    {
     "name": "stderr",
     "output_type": "stream",
     "text": [
      "Train 14/50:   0%|          | 0/1458 [00:00<?, ?it/s]/tmp/ipykernel_14253/3732946393.py:55: FutureWarning: `torch.cuda.amp.autocast(args...)` is deprecated. Please use `torch.amp.autocast('cuda', args...)` instead.\n",
      "  with torch.cuda.amp.autocast(enabled=(device.type==\"cuda\")):\n",
      "/tmp/ipykernel_14253/3732946393.py:85: FutureWarning: `torch.cuda.amp.autocast(args...)` is deprecated. Please use `torch.amp.autocast('cuda', args...)` instead.\n",
      "  with torch.cuda.amp.autocast(enabled=(device.type==\"cuda\")):\n"
     ]
    },
    {
     "name": "stdout",
     "output_type": "stream",
     "text": [
      "[14] Train: 0.6772 | Val: 0.6682 | Train F1: 0.920 | Val F1: 0.924 | LR: 1.00e-04\n"
     ]
    },
    {
     "name": "stderr",
     "output_type": "stream",
     "text": [
      "Train 15/50:   0%|          | 0/1458 [00:00<?, ?it/s]/tmp/ipykernel_14253/3732946393.py:55: FutureWarning: `torch.cuda.amp.autocast(args...)` is deprecated. Please use `torch.amp.autocast('cuda', args...)` instead.\n",
      "  with torch.cuda.amp.autocast(enabled=(device.type==\"cuda\")):\n",
      "/tmp/ipykernel_14253/3732946393.py:85: FutureWarning: `torch.cuda.amp.autocast(args...)` is deprecated. Please use `torch.amp.autocast('cuda', args...)` instead.\n",
      "  with torch.cuda.amp.autocast(enabled=(device.type==\"cuda\")):\n"
     ]
    },
    {
     "name": "stdout",
     "output_type": "stream",
     "text": [
      "[15] Train: 0.6753 | Val: 0.6696 | Train F1: 0.922 | Val F1: 0.922 | LR: 1.00e-04\n"
     ]
    },
    {
     "name": "stderr",
     "output_type": "stream",
     "text": [
      "Train 16/50:   0%|          | 0/1458 [00:00<?, ?it/s]/tmp/ipykernel_14253/3732946393.py:55: FutureWarning: `torch.cuda.amp.autocast(args...)` is deprecated. Please use `torch.amp.autocast('cuda', args...)` instead.\n",
      "  with torch.cuda.amp.autocast(enabled=(device.type==\"cuda\")):\n",
      "/tmp/ipykernel_14253/3732946393.py:85: FutureWarning: `torch.cuda.amp.autocast(args...)` is deprecated. Please use `torch.amp.autocast('cuda', args...)` instead.\n",
      "  with torch.cuda.amp.autocast(enabled=(device.type==\"cuda\")):\n"
     ]
    },
    {
     "name": "stdout",
     "output_type": "stream",
     "text": [
      "[16] Train: 0.6715 | Val: 0.6690 | Train F1: 0.926 | Val F1: 0.922 | LR: 1.00e-04\n"
     ]
    },
    {
     "name": "stderr",
     "output_type": "stream",
     "text": [
      "Train 17/50:   0%|          | 0/1458 [00:00<?, ?it/s]/tmp/ipykernel_14253/3732946393.py:55: FutureWarning: `torch.cuda.amp.autocast(args...)` is deprecated. Please use `torch.amp.autocast('cuda', args...)` instead.\n",
      "  with torch.cuda.amp.autocast(enabled=(device.type==\"cuda\")):\n",
      "/tmp/ipykernel_14253/3732946393.py:85: FutureWarning: `torch.cuda.amp.autocast(args...)` is deprecated. Please use `torch.amp.autocast('cuda', args...)` instead.\n",
      "  with torch.cuda.amp.autocast(enabled=(device.type==\"cuda\")):\n"
     ]
    },
    {
     "name": "stdout",
     "output_type": "stream",
     "text": [
      "[17] Train: 0.6704 | Val: 0.6636 | Train F1: 0.928 | Val F1: 0.929 | LR: 1.00e-04\n"
     ]
    },
    {
     "name": "stderr",
     "output_type": "stream",
     "text": [
      "Train 18/50:   0%|          | 0/1458 [00:00<?, ?it/s]/tmp/ipykernel_14253/3732946393.py:55: FutureWarning: `torch.cuda.amp.autocast(args...)` is deprecated. Please use `torch.amp.autocast('cuda', args...)` instead.\n",
      "  with torch.cuda.amp.autocast(enabled=(device.type==\"cuda\")):\n",
      "/tmp/ipykernel_14253/3732946393.py:85: FutureWarning: `torch.cuda.amp.autocast(args...)` is deprecated. Please use `torch.amp.autocast('cuda', args...)` instead.\n",
      "  with torch.cuda.amp.autocast(enabled=(device.type==\"cuda\")):\n"
     ]
    },
    {
     "name": "stdout",
     "output_type": "stream",
     "text": [
      "[18] Train: 0.6698 | Val: 0.6638 | Train F1: 0.928 | Val F1: 0.929 | LR: 1.00e-04\n"
     ]
    },
    {
     "name": "stderr",
     "output_type": "stream",
     "text": [
      "Train 19/50:   0%|          | 0/1458 [00:00<?, ?it/s]/tmp/ipykernel_14253/3732946393.py:55: FutureWarning: `torch.cuda.amp.autocast(args...)` is deprecated. Please use `torch.amp.autocast('cuda', args...)` instead.\n",
      "  with torch.cuda.amp.autocast(enabled=(device.type==\"cuda\")):\n",
      "/tmp/ipykernel_14253/3732946393.py:85: FutureWarning: `torch.cuda.amp.autocast(args...)` is deprecated. Please use `torch.amp.autocast('cuda', args...)` instead.\n",
      "  with torch.cuda.amp.autocast(enabled=(device.type==\"cuda\")):\n"
     ]
    },
    {
     "name": "stdout",
     "output_type": "stream",
     "text": [
      "[19] Train: 0.6684 | Val: 0.6620 | Train F1: 0.930 | Val F1: 0.931 | LR: 1.00e-04\n"
     ]
    },
    {
     "name": "stderr",
     "output_type": "stream",
     "text": [
      "Train 20/50:   0%|          | 0/1458 [00:00<?, ?it/s]/tmp/ipykernel_14253/3732946393.py:55: FutureWarning: `torch.cuda.amp.autocast(args...)` is deprecated. Please use `torch.amp.autocast('cuda', args...)` instead.\n",
      "  with torch.cuda.amp.autocast(enabled=(device.type==\"cuda\")):\n",
      "/tmp/ipykernel_14253/3732946393.py:85: FutureWarning: `torch.cuda.amp.autocast(args...)` is deprecated. Please use `torch.amp.autocast('cuda', args...)` instead.\n",
      "  with torch.cuda.amp.autocast(enabled=(device.type==\"cuda\")):\n"
     ]
    },
    {
     "name": "stdout",
     "output_type": "stream",
     "text": [
      "[20] Train: 0.6649 | Val: 0.6609 | Train F1: 0.933 | Val F1: 0.933 | LR: 1.00e-04\n"
     ]
    },
    {
     "name": "stderr",
     "output_type": "stream",
     "text": [
      "Train 21/50:   0%|          | 0/1458 [00:00<?, ?it/s]/tmp/ipykernel_14253/3732946393.py:55: FutureWarning: `torch.cuda.amp.autocast(args...)` is deprecated. Please use `torch.amp.autocast('cuda', args...)` instead.\n",
      "  with torch.cuda.amp.autocast(enabled=(device.type==\"cuda\")):\n",
      "/tmp/ipykernel_14253/3732946393.py:85: FutureWarning: `torch.cuda.amp.autocast(args...)` is deprecated. Please use `torch.amp.autocast('cuda', args...)` instead.\n",
      "  with torch.cuda.amp.autocast(enabled=(device.type==\"cuda\")):\n"
     ]
    },
    {
     "name": "stdout",
     "output_type": "stream",
     "text": [
      "[21] Train: 0.6648 | Val: 0.6629 | Train F1: 0.934 | Val F1: 0.930 | LR: 1.00e-04\n"
     ]
    },
    {
     "name": "stderr",
     "output_type": "stream",
     "text": [
      "Train 22/50:   0%|          | 0/1458 [00:00<?, ?it/s]/tmp/ipykernel_14253/3732946393.py:55: FutureWarning: `torch.cuda.amp.autocast(args...)` is deprecated. Please use `torch.amp.autocast('cuda', args...)` instead.\n",
      "  with torch.cuda.amp.autocast(enabled=(device.type==\"cuda\")):\n",
      "/tmp/ipykernel_14253/3732946393.py:85: FutureWarning: `torch.cuda.amp.autocast(args...)` is deprecated. Please use `torch.amp.autocast('cuda', args...)` instead.\n",
      "  with torch.cuda.amp.autocast(enabled=(device.type==\"cuda\")):\n"
     ]
    },
    {
     "name": "stdout",
     "output_type": "stream",
     "text": [
      "[22] Train: 0.6635 | Val: 0.6582 | Train F1: 0.935 | Val F1: 0.937 | LR: 1.00e-04\n"
     ]
    },
    {
     "name": "stderr",
     "output_type": "stream",
     "text": [
      "Train 23/50:   0%|          | 0/1458 [00:00<?, ?it/s]/tmp/ipykernel_14253/3732946393.py:55: FutureWarning: `torch.cuda.amp.autocast(args...)` is deprecated. Please use `torch.amp.autocast('cuda', args...)` instead.\n",
      "  with torch.cuda.amp.autocast(enabled=(device.type==\"cuda\")):\n",
      "/tmp/ipykernel_14253/3732946393.py:85: FutureWarning: `torch.cuda.amp.autocast(args...)` is deprecated. Please use `torch.amp.autocast('cuda', args...)` instead.\n",
      "  with torch.cuda.amp.autocast(enabled=(device.type==\"cuda\")):\n"
     ]
    },
    {
     "name": "stdout",
     "output_type": "stream",
     "text": [
      "[23] Train: 0.6627 | Val: 0.6591 | Train F1: 0.936 | Val F1: 0.935 | LR: 1.00e-04\n"
     ]
    },
    {
     "name": "stderr",
     "output_type": "stream",
     "text": [
      "Train 24/50:   0%|          | 0/1458 [00:00<?, ?it/s]/tmp/ipykernel_14253/3732946393.py:55: FutureWarning: `torch.cuda.amp.autocast(args...)` is deprecated. Please use `torch.amp.autocast('cuda', args...)` instead.\n",
      "  with torch.cuda.amp.autocast(enabled=(device.type==\"cuda\")):\n",
      "/tmp/ipykernel_14253/3732946393.py:85: FutureWarning: `torch.cuda.amp.autocast(args...)` is deprecated. Please use `torch.amp.autocast('cuda', args...)` instead.\n",
      "  with torch.cuda.amp.autocast(enabled=(device.type==\"cuda\")):\n"
     ]
    },
    {
     "name": "stdout",
     "output_type": "stream",
     "text": [
      "[24] Train: 0.6616 | Val: 0.6577 | Train F1: 0.937 | Val F1: 0.937 | LR: 1.00e-04\n"
     ]
    },
    {
     "name": "stderr",
     "output_type": "stream",
     "text": [
      "Train 25/50:   0%|          | 0/1458 [00:00<?, ?it/s]/tmp/ipykernel_14253/3732946393.py:55: FutureWarning: `torch.cuda.amp.autocast(args...)` is deprecated. Please use `torch.amp.autocast('cuda', args...)` instead.\n",
      "  with torch.cuda.amp.autocast(enabled=(device.type==\"cuda\")):\n",
      "/tmp/ipykernel_14253/3732946393.py:85: FutureWarning: `torch.cuda.amp.autocast(args...)` is deprecated. Please use `torch.amp.autocast('cuda', args...)` instead.\n",
      "  with torch.cuda.amp.autocast(enabled=(device.type==\"cuda\")):\n"
     ]
    },
    {
     "name": "stdout",
     "output_type": "stream",
     "text": [
      "[25] Train: 0.6595 | Val: 0.6567 | Train F1: 0.940 | Val F1: 0.938 | LR: 1.00e-04\n"
     ]
    },
    {
     "name": "stderr",
     "output_type": "stream",
     "text": [
      "Train 26/50:   0%|          | 0/1458 [00:00<?, ?it/s]/tmp/ipykernel_14253/3732946393.py:55: FutureWarning: `torch.cuda.amp.autocast(args...)` is deprecated. Please use `torch.amp.autocast('cuda', args...)` instead.\n",
      "  with torch.cuda.amp.autocast(enabled=(device.type==\"cuda\")):\n",
      "/tmp/ipykernel_14253/3732946393.py:85: FutureWarning: `torch.cuda.amp.autocast(args...)` is deprecated. Please use `torch.amp.autocast('cuda', args...)` instead.\n",
      "  with torch.cuda.amp.autocast(enabled=(device.type==\"cuda\")):\n"
     ]
    },
    {
     "name": "stdout",
     "output_type": "stream",
     "text": [
      "[26] Train: 0.6599 | Val: 0.6546 | Train F1: 0.940 | Val F1: 0.941 | LR: 1.00e-04\n"
     ]
    },
    {
     "name": "stderr",
     "output_type": "stream",
     "text": [
      "Train 27/50:   0%|          | 0/1458 [00:00<?, ?it/s]/tmp/ipykernel_14253/3732946393.py:55: FutureWarning: `torch.cuda.amp.autocast(args...)` is deprecated. Please use `torch.amp.autocast('cuda', args...)` instead.\n",
      "  with torch.cuda.amp.autocast(enabled=(device.type==\"cuda\")):\n",
      "/tmp/ipykernel_14253/3732946393.py:85: FutureWarning: `torch.cuda.amp.autocast(args...)` is deprecated. Please use `torch.amp.autocast('cuda', args...)` instead.\n",
      "  with torch.cuda.amp.autocast(enabled=(device.type==\"cuda\")):\n"
     ]
    },
    {
     "name": "stdout",
     "output_type": "stream",
     "text": [
      "[27] Train: 0.6576 | Val: 0.6546 | Train F1: 0.942 | Val F1: 0.941 | LR: 1.00e-04\n"
     ]
    },
    {
     "name": "stderr",
     "output_type": "stream",
     "text": [
      "Train 28/50:   0%|          | 0/1458 [00:00<?, ?it/s]/tmp/ipykernel_14253/3732946393.py:55: FutureWarning: `torch.cuda.amp.autocast(args...)` is deprecated. Please use `torch.amp.autocast('cuda', args...)` instead.\n",
      "  with torch.cuda.amp.autocast(enabled=(device.type==\"cuda\")):\n",
      "/tmp/ipykernel_14253/3732946393.py:85: FutureWarning: `torch.cuda.amp.autocast(args...)` is deprecated. Please use `torch.amp.autocast('cuda', args...)` instead.\n",
      "  with torch.cuda.amp.autocast(enabled=(device.type==\"cuda\")):\n"
     ]
    },
    {
     "name": "stdout",
     "output_type": "stream",
     "text": [
      "[28] Train: 0.6565 | Val: 0.6564 | Train F1: 0.943 | Val F1: 0.938 | LR: 1.00e-04\n"
     ]
    },
    {
     "name": "stderr",
     "output_type": "stream",
     "text": [
      "Train 29/50:   0%|          | 0/1458 [00:00<?, ?it/s]/tmp/ipykernel_14253/3732946393.py:55: FutureWarning: `torch.cuda.amp.autocast(args...)` is deprecated. Please use `torch.amp.autocast('cuda', args...)` instead.\n",
      "  with torch.cuda.amp.autocast(enabled=(device.type==\"cuda\")):\n",
      "/tmp/ipykernel_14253/3732946393.py:85: FutureWarning: `torch.cuda.amp.autocast(args...)` is deprecated. Please use `torch.amp.autocast('cuda', args...)` instead.\n",
      "  with torch.cuda.amp.autocast(enabled=(device.type==\"cuda\")):\n"
     ]
    },
    {
     "name": "stdout",
     "output_type": "stream",
     "text": [
      "[29] Train: 0.6547 | Val: 0.6537 | Train F1: 0.945 | Val F1: 0.942 | LR: 1.00e-04\n"
     ]
    },
    {
     "name": "stderr",
     "output_type": "stream",
     "text": [
      "Train 30/50:   0%|          | 0/1458 [00:00<?, ?it/s]/tmp/ipykernel_14253/3732946393.py:55: FutureWarning: `torch.cuda.amp.autocast(args...)` is deprecated. Please use `torch.amp.autocast('cuda', args...)` instead.\n",
      "  with torch.cuda.amp.autocast(enabled=(device.type==\"cuda\")):\n",
      "/tmp/ipykernel_14253/3732946393.py:85: FutureWarning: `torch.cuda.amp.autocast(args...)` is deprecated. Please use `torch.amp.autocast('cuda', args...)` instead.\n",
      "  with torch.cuda.amp.autocast(enabled=(device.type==\"cuda\")):\n"
     ]
    },
    {
     "name": "stdout",
     "output_type": "stream",
     "text": [
      "[30] Train: 0.6557 | Val: 0.6541 | Train F1: 0.944 | Val F1: 0.942 | LR: 1.00e-04\n"
     ]
    },
    {
     "name": "stderr",
     "output_type": "stream",
     "text": [
      "Train 31/50:   0%|          | 0/1458 [00:00<?, ?it/s]/tmp/ipykernel_14253/3732946393.py:55: FutureWarning: `torch.cuda.amp.autocast(args...)` is deprecated. Please use `torch.amp.autocast('cuda', args...)` instead.\n",
      "  with torch.cuda.amp.autocast(enabled=(device.type==\"cuda\")):\n",
      "/tmp/ipykernel_14253/3732946393.py:85: FutureWarning: `torch.cuda.amp.autocast(args...)` is deprecated. Please use `torch.amp.autocast('cuda', args...)` instead.\n",
      "  with torch.cuda.amp.autocast(enabled=(device.type==\"cuda\")):\n"
     ]
    },
    {
     "name": "stdout",
     "output_type": "stream",
     "text": [
      "[31] Train: 0.6544 | Val: 0.6537 | Train F1: 0.946 | Val F1: 0.941 | LR: 1.00e-04\n"
     ]
    },
    {
     "name": "stderr",
     "output_type": "stream",
     "text": [
      "Train 32/50:   0%|          | 0/1458 [00:00<?, ?it/s]/tmp/ipykernel_14253/3732946393.py:55: FutureWarning: `torch.cuda.amp.autocast(args...)` is deprecated. Please use `torch.amp.autocast('cuda', args...)` instead.\n",
      "  with torch.cuda.amp.autocast(enabled=(device.type==\"cuda\")):\n",
      "/tmp/ipykernel_14253/3732946393.py:85: FutureWarning: `torch.cuda.amp.autocast(args...)` is deprecated. Please use `torch.amp.autocast('cuda', args...)` instead.\n",
      "  with torch.cuda.amp.autocast(enabled=(device.type==\"cuda\")):\n"
     ]
    },
    {
     "name": "stdout",
     "output_type": "stream",
     "text": [
      "[32] Train: 0.6536 | Val: 0.6517 | Train F1: 0.947 | Val F1: 0.945 | LR: 1.00e-04\n"
     ]
    },
    {
     "name": "stderr",
     "output_type": "stream",
     "text": [
      "Train 33/50:   0%|          | 0/1458 [00:00<?, ?it/s]/tmp/ipykernel_14253/3732946393.py:55: FutureWarning: `torch.cuda.amp.autocast(args...)` is deprecated. Please use `torch.amp.autocast('cuda', args...)` instead.\n",
      "  with torch.cuda.amp.autocast(enabled=(device.type==\"cuda\")):\n",
      "/tmp/ipykernel_14253/3732946393.py:85: FutureWarning: `torch.cuda.amp.autocast(args...)` is deprecated. Please use `torch.amp.autocast('cuda', args...)` instead.\n",
      "  with torch.cuda.amp.autocast(enabled=(device.type==\"cuda\")):\n"
     ]
    },
    {
     "name": "stdout",
     "output_type": "stream",
     "text": [
      "[33] Train: 0.6526 | Val: 0.6510 | Train F1: 0.948 | Val F1: 0.945 | LR: 1.00e-04\n"
     ]
    },
    {
     "name": "stderr",
     "output_type": "stream",
     "text": [
      "Train 34/50:   0%|          | 0/1458 [00:00<?, ?it/s]/tmp/ipykernel_14253/3732946393.py:55: FutureWarning: `torch.cuda.amp.autocast(args...)` is deprecated. Please use `torch.amp.autocast('cuda', args...)` instead.\n",
      "  with torch.cuda.amp.autocast(enabled=(device.type==\"cuda\")):\n",
      "/tmp/ipykernel_14253/3732946393.py:85: FutureWarning: `torch.cuda.amp.autocast(args...)` is deprecated. Please use `torch.amp.autocast('cuda', args...)` instead.\n",
      "  with torch.cuda.amp.autocast(enabled=(device.type==\"cuda\")):\n"
     ]
    },
    {
     "name": "stdout",
     "output_type": "stream",
     "text": [
      "[34] Train: 0.6522 | Val: 0.6521 | Train F1: 0.949 | Val F1: 0.944 | LR: 1.00e-04\n"
     ]
    },
    {
     "name": "stderr",
     "output_type": "stream",
     "text": [
      "Train 35/50:   0%|          | 0/1458 [00:00<?, ?it/s]/tmp/ipykernel_14253/3732946393.py:55: FutureWarning: `torch.cuda.amp.autocast(args...)` is deprecated. Please use `torch.amp.autocast('cuda', args...)` instead.\n",
      "  with torch.cuda.amp.autocast(enabled=(device.type==\"cuda\")):\n",
      "/tmp/ipykernel_14253/3732946393.py:85: FutureWarning: `torch.cuda.amp.autocast(args...)` is deprecated. Please use `torch.amp.autocast('cuda', args...)` instead.\n",
      "  with torch.cuda.amp.autocast(enabled=(device.type==\"cuda\")):\n"
     ]
    },
    {
     "name": "stdout",
     "output_type": "stream",
     "text": [
      "[35] Train: 0.6510 | Val: 0.6501 | Train F1: 0.949 | Val F1: 0.947 | LR: 1.00e-04\n"
     ]
    },
    {
     "name": "stderr",
     "output_type": "stream",
     "text": [
      "Train 36/50:   0%|          | 0/1458 [00:00<?, ?it/s]/tmp/ipykernel_14253/3732946393.py:55: FutureWarning: `torch.cuda.amp.autocast(args...)` is deprecated. Please use `torch.amp.autocast('cuda', args...)` instead.\n",
      "  with torch.cuda.amp.autocast(enabled=(device.type==\"cuda\")):\n",
      "/tmp/ipykernel_14253/3732946393.py:85: FutureWarning: `torch.cuda.amp.autocast(args...)` is deprecated. Please use `torch.amp.autocast('cuda', args...)` instead.\n",
      "  with torch.cuda.amp.autocast(enabled=(device.type==\"cuda\")):\n"
     ]
    },
    {
     "name": "stdout",
     "output_type": "stream",
     "text": [
      "[36] Train: 0.6492 | Val: 0.6511 | Train F1: 0.952 | Val F1: 0.946 | LR: 1.00e-04\n"
     ]
    },
    {
     "name": "stderr",
     "output_type": "stream",
     "text": [
      "Train 37/50:   0%|          | 0/1458 [00:00<?, ?it/s]/tmp/ipykernel_14253/3732946393.py:55: FutureWarning: `torch.cuda.amp.autocast(args...)` is deprecated. Please use `torch.amp.autocast('cuda', args...)` instead.\n",
      "  with torch.cuda.amp.autocast(enabled=(device.type==\"cuda\")):\n",
      "/tmp/ipykernel_14253/3732946393.py:85: FutureWarning: `torch.cuda.amp.autocast(args...)` is deprecated. Please use `torch.amp.autocast('cuda', args...)` instead.\n",
      "  with torch.cuda.amp.autocast(enabled=(device.type==\"cuda\")):\n"
     ]
    },
    {
     "name": "stdout",
     "output_type": "stream",
     "text": [
      "[37] Train: 0.6494 | Val: 0.6498 | Train F1: 0.952 | Val F1: 0.947 | LR: 1.00e-04\n"
     ]
    },
    {
     "name": "stderr",
     "output_type": "stream",
     "text": [
      "Train 38/50:   0%|          | 0/1458 [00:00<?, ?it/s]/tmp/ipykernel_14253/3732946393.py:55: FutureWarning: `torch.cuda.amp.autocast(args...)` is deprecated. Please use `torch.amp.autocast('cuda', args...)` instead.\n",
      "  with torch.cuda.amp.autocast(enabled=(device.type==\"cuda\")):\n",
      "/tmp/ipykernel_14253/3732946393.py:85: FutureWarning: `torch.cuda.amp.autocast(args...)` is deprecated. Please use `torch.amp.autocast('cuda', args...)` instead.\n",
      "  with torch.cuda.amp.autocast(enabled=(device.type==\"cuda\")):\n"
     ]
    },
    {
     "name": "stdout",
     "output_type": "stream",
     "text": [
      "[38] Train: 0.6488 | Val: 0.6498 | Train F1: 0.952 | Val F1: 0.947 | LR: 1.00e-04\n"
     ]
    },
    {
     "name": "stderr",
     "output_type": "stream",
     "text": [
      "Train 39/50:   0%|          | 0/1458 [00:00<?, ?it/s]/tmp/ipykernel_14253/3732946393.py:55: FutureWarning: `torch.cuda.amp.autocast(args...)` is deprecated. Please use `torch.amp.autocast('cuda', args...)` instead.\n",
      "  with torch.cuda.amp.autocast(enabled=(device.type==\"cuda\")):\n",
      "/tmp/ipykernel_14253/3732946393.py:85: FutureWarning: `torch.cuda.amp.autocast(args...)` is deprecated. Please use `torch.amp.autocast('cuda', args...)` instead.\n",
      "  with torch.cuda.amp.autocast(enabled=(device.type==\"cuda\")):\n"
     ]
    },
    {
     "name": "stdout",
     "output_type": "stream",
     "text": [
      "[39] Train: 0.6483 | Val: 0.6514 | Train F1: 0.952 | Val F1: 0.945 | LR: 1.00e-04\n"
     ]
    },
    {
     "name": "stderr",
     "output_type": "stream",
     "text": [
      "Train 40/50:   0%|          | 0/1458 [00:00<?, ?it/s]/tmp/ipykernel_14253/3732946393.py:55: FutureWarning: `torch.cuda.amp.autocast(args...)` is deprecated. Please use `torch.amp.autocast('cuda', args...)` instead.\n",
      "  with torch.cuda.amp.autocast(enabled=(device.type==\"cuda\")):\n",
      "/tmp/ipykernel_14253/3732946393.py:85: FutureWarning: `torch.cuda.amp.autocast(args...)` is deprecated. Please use `torch.amp.autocast('cuda', args...)` instead.\n",
      "  with torch.cuda.amp.autocast(enabled=(device.type==\"cuda\")):\n"
     ]
    },
    {
     "name": "stdout",
     "output_type": "stream",
     "text": [
      "[40] Train: 0.6474 | Val: 0.6536 | Train F1: 0.954 | Val F1: 0.943 | LR: 5.00e-05\n"
     ]
    },
    {
     "name": "stderr",
     "output_type": "stream",
     "text": [
      "Train 41/50:   0%|          | 0/1458 [00:00<?, ?it/s]/tmp/ipykernel_14253/3732946393.py:55: FutureWarning: `torch.cuda.amp.autocast(args...)` is deprecated. Please use `torch.amp.autocast('cuda', args...)` instead.\n",
      "  with torch.cuda.amp.autocast(enabled=(device.type==\"cuda\")):\n",
      "/tmp/ipykernel_14253/3732946393.py:85: FutureWarning: `torch.cuda.amp.autocast(args...)` is deprecated. Please use `torch.amp.autocast('cuda', args...)` instead.\n",
      "  with torch.cuda.amp.autocast(enabled=(device.type==\"cuda\")):\n"
     ]
    },
    {
     "name": "stdout",
     "output_type": "stream",
     "text": [
      "[41] Train: 0.6467 | Val: 0.6487 | Train F1: 0.955 | Val F1: 0.949 | LR: 5.00e-05\n"
     ]
    },
    {
     "name": "stderr",
     "output_type": "stream",
     "text": [
      "Train 42/50:   0%|          | 0/1458 [00:00<?, ?it/s]/tmp/ipykernel_14253/3732946393.py:55: FutureWarning: `torch.cuda.amp.autocast(args...)` is deprecated. Please use `torch.amp.autocast('cuda', args...)` instead.\n",
      "  with torch.cuda.amp.autocast(enabled=(device.type==\"cuda\")):\n",
      "/tmp/ipykernel_14253/3732946393.py:85: FutureWarning: `torch.cuda.amp.autocast(args...)` is deprecated. Please use `torch.amp.autocast('cuda', args...)` instead.\n",
      "  with torch.cuda.amp.autocast(enabled=(device.type==\"cuda\")):\n"
     ]
    },
    {
     "name": "stdout",
     "output_type": "stream",
     "text": [
      "[42] Train: 0.6462 | Val: 0.6482 | Train F1: 0.955 | Val F1: 0.950 | LR: 5.00e-05\n"
     ]
    },
    {
     "name": "stderr",
     "output_type": "stream",
     "text": [
      "Train 43/50:   0%|          | 0/1458 [00:00<?, ?it/s]/tmp/ipykernel_14253/3732946393.py:55: FutureWarning: `torch.cuda.amp.autocast(args...)` is deprecated. Please use `torch.amp.autocast('cuda', args...)` instead.\n",
      "  with torch.cuda.amp.autocast(enabled=(device.type==\"cuda\")):\n",
      "/tmp/ipykernel_14253/3732946393.py:85: FutureWarning: `torch.cuda.amp.autocast(args...)` is deprecated. Please use `torch.amp.autocast('cuda', args...)` instead.\n",
      "  with torch.cuda.amp.autocast(enabled=(device.type==\"cuda\")):\n"
     ]
    },
    {
     "name": "stdout",
     "output_type": "stream",
     "text": [
      "[43] Train: 0.6453 | Val: 0.6487 | Train F1: 0.956 | Val F1: 0.948 | LR: 5.00e-05\n"
     ]
    },
    {
     "name": "stderr",
     "output_type": "stream",
     "text": [
      "Train 44/50:   0%|          | 0/1458 [00:00<?, ?it/s]/tmp/ipykernel_14253/3732946393.py:55: FutureWarning: `torch.cuda.amp.autocast(args...)` is deprecated. Please use `torch.amp.autocast('cuda', args...)` instead.\n",
      "  with torch.cuda.amp.autocast(enabled=(device.type==\"cuda\")):\n",
      "/tmp/ipykernel_14253/3732946393.py:85: FutureWarning: `torch.cuda.amp.autocast(args...)` is deprecated. Please use `torch.amp.autocast('cuda', args...)` instead.\n",
      "  with torch.cuda.amp.autocast(enabled=(device.type==\"cuda\")):\n"
     ]
    },
    {
     "name": "stdout",
     "output_type": "stream",
     "text": [
      "[44] Train: 0.6448 | Val: 0.6490 | Train F1: 0.957 | Val F1: 0.948 | LR: 5.00e-05\n"
     ]
    },
    {
     "name": "stderr",
     "output_type": "stream",
     "text": [
      "Train 45/50:   0%|          | 0/1458 [00:00<?, ?it/s]/tmp/ipykernel_14253/3732946393.py:55: FutureWarning: `torch.cuda.amp.autocast(args...)` is deprecated. Please use `torch.amp.autocast('cuda', args...)` instead.\n",
      "  with torch.cuda.amp.autocast(enabled=(device.type==\"cuda\")):\n",
      "/tmp/ipykernel_14253/3732946393.py:85: FutureWarning: `torch.cuda.amp.autocast(args...)` is deprecated. Please use `torch.amp.autocast('cuda', args...)` instead.\n",
      "  with torch.cuda.amp.autocast(enabled=(device.type==\"cuda\")):\n"
     ]
    },
    {
     "name": "stdout",
     "output_type": "stream",
     "text": [
      "[45] Train: 0.6447 | Val: 0.6475 | Train F1: 0.957 | Val F1: 0.950 | LR: 5.00e-05\n"
     ]
    },
    {
     "name": "stderr",
     "output_type": "stream",
     "text": [
      "Train 46/50:   0%|          | 0/1458 [00:00<?, ?it/s]/tmp/ipykernel_14253/3732946393.py:55: FutureWarning: `torch.cuda.amp.autocast(args...)` is deprecated. Please use `torch.amp.autocast('cuda', args...)` instead.\n",
      "  with torch.cuda.amp.autocast(enabled=(device.type==\"cuda\")):\n",
      "/tmp/ipykernel_14253/3732946393.py:85: FutureWarning: `torch.cuda.amp.autocast(args...)` is deprecated. Please use `torch.amp.autocast('cuda', args...)` instead.\n",
      "  with torch.cuda.amp.autocast(enabled=(device.type==\"cuda\")):\n"
     ]
    },
    {
     "name": "stdout",
     "output_type": "stream",
     "text": [
      "[46] Train: 0.6428 | Val: 0.6493 | Train F1: 0.959 | Val F1: 0.948 | LR: 5.00e-05\n"
     ]
    },
    {
     "name": "stderr",
     "output_type": "stream",
     "text": [
      "Train 47/50:   0%|          | 0/1458 [00:00<?, ?it/s]/tmp/ipykernel_14253/3732946393.py:55: FutureWarning: `torch.cuda.amp.autocast(args...)` is deprecated. Please use `torch.amp.autocast('cuda', args...)` instead.\n",
      "  with torch.cuda.amp.autocast(enabled=(device.type==\"cuda\")):\n",
      "/tmp/ipykernel_14253/3732946393.py:85: FutureWarning: `torch.cuda.amp.autocast(args...)` is deprecated. Please use `torch.amp.autocast('cuda', args...)` instead.\n",
      "  with torch.cuda.amp.autocast(enabled=(device.type==\"cuda\")):\n"
     ]
    },
    {
     "name": "stdout",
     "output_type": "stream",
     "text": [
      "[47] Train: 0.6441 | Val: 0.6462 | Train F1: 0.958 | Val F1: 0.952 | LR: 5.00e-05\n"
     ]
    },
    {
     "name": "stderr",
     "output_type": "stream",
     "text": [
      "Train 48/50:   0%|          | 0/1458 [00:00<?, ?it/s]/tmp/ipykernel_14253/3732946393.py:55: FutureWarning: `torch.cuda.amp.autocast(args...)` is deprecated. Please use `torch.amp.autocast('cuda', args...)` instead.\n",
      "  with torch.cuda.amp.autocast(enabled=(device.type==\"cuda\")):\n",
      "/tmp/ipykernel_14253/3732946393.py:85: FutureWarning: `torch.cuda.amp.autocast(args...)` is deprecated. Please use `torch.amp.autocast('cuda', args...)` instead.\n",
      "  with torch.cuda.amp.autocast(enabled=(device.type==\"cuda\")):\n"
     ]
    },
    {
     "name": "stdout",
     "output_type": "stream",
     "text": [
      "[48] Train: 0.6431 | Val: 0.6483 | Train F1: 0.958 | Val F1: 0.949 | LR: 5.00e-05\n"
     ]
    },
    {
     "name": "stderr",
     "output_type": "stream",
     "text": [
      "Train 49/50:   0%|          | 0/1458 [00:00<?, ?it/s]/tmp/ipykernel_14253/3732946393.py:55: FutureWarning: `torch.cuda.amp.autocast(args...)` is deprecated. Please use `torch.amp.autocast('cuda', args...)` instead.\n",
      "  with torch.cuda.amp.autocast(enabled=(device.type==\"cuda\")):\n",
      "/tmp/ipykernel_14253/3732946393.py:85: FutureWarning: `torch.cuda.amp.autocast(args...)` is deprecated. Please use `torch.amp.autocast('cuda', args...)` instead.\n",
      "  with torch.cuda.amp.autocast(enabled=(device.type==\"cuda\")):\n"
     ]
    },
    {
     "name": "stdout",
     "output_type": "stream",
     "text": [
      "[49] Train: 0.6428 | Val: 0.6482 | Train F1: 0.959 | Val F1: 0.949 | LR: 5.00e-05\n"
     ]
    },
    {
     "name": "stderr",
     "output_type": "stream",
     "text": [
      "Train 50/50:   0%|          | 0/1458 [00:00<?, ?it/s]/tmp/ipykernel_14253/3732946393.py:55: FutureWarning: `torch.cuda.amp.autocast(args...)` is deprecated. Please use `torch.amp.autocast('cuda', args...)` instead.\n",
      "  with torch.cuda.amp.autocast(enabled=(device.type==\"cuda\")):\n",
      "/tmp/ipykernel_14253/3732946393.py:85: FutureWarning: `torch.cuda.amp.autocast(args...)` is deprecated. Please use `torch.amp.autocast('cuda', args...)` instead.\n",
      "  with torch.cuda.amp.autocast(enabled=(device.type==\"cuda\")):\n"
     ]
    },
    {
     "name": "stdout",
     "output_type": "stream",
     "text": [
      "[50] Train: 0.6431 | Val: 0.6463 | Train F1: 0.958 | Val F1: 0.951 | LR: 2.50e-05\n",
      "\n",
      "✅ En iyi val loss: 0.6462 | Model: phasenet_best_ps.pth\n"
     ]
    },
    {
     "data": {
      "image/png": "[encoded data removed]",
      "text/plain": [
       "<Figure size 800x500 with 1 Axes>"
      ]
     },
     "metadata": {},
     "output_type": "display_data"
    },
    {
     "data": {
      "image/png": "[encoded data removed]",
      "text/plain": [
       "<Figure size 800x400 with 1 Axes>"
      ]
     },
     "metadata": {},
     "output_type": "display_data"
    },
    {
     "data": {
      "image/png": "[encoded data removed]",
      "text/plain": [
       "<Figure size 800x300 with 1 Axes>"
      ]
     },
     "metadata": {},
     "output_type": "display_data"
    }
   ],
   "source": [
    "import os, torch, torch.nn as nn, torch.optim as optim\n",
    "from torch.utils.data import DataLoader\n",
    "import numpy as np\n",
    "from tqdm import tqdm\n",
    "from sklearn.metrics import f1_score\n",
    "import matplotlib.pyplot as plt\n",
    "import seisbench.models as sbm\n",
    "\n",
    "# ==== Hiperparametreler ====\n",
    "LR = 1e-4\n",
    "EPOCHS = 50\n",
    "BATCH_SIZE = 16\n",
    "PATIENCE = 6\n",
    "device = torch.device(\"cuda\" if torch.cuda.is_available() else \"cpu\")\n",
    "print(\"Device:\", device)\n",
    "\n",
    "# ==== Model ve optimizer ====\n",
    "model = sbm.PhaseNet.from_pretrained(\"ethz\").to(device)\n",
    "criterion = nn.CrossEntropyLoss(ignore_index=0, label_smoothing=0.05)\n",
    "optimizer = optim.Adam(model.parameters(), lr=LR)\n",
    "scaler = torch.cuda.amp.GradScaler(enabled=(device.type==\"cuda\"))\n",
    "scheduler = optim.lr_scheduler.ReduceLROnPlateau(optimizer, mode=\"min\", factor=0.5, patience=2)\n",
    "\n",
    "# ==== DataLoader ====\n",
    "train_loader = DataLoader(train_ds, batch_size=BATCH_SIZE, shuffle=True,\n",
    "                          num_workers=8, pin_memory=True, persistent_workers=True)\n",
    "val_loader   = DataLoader(val_ds, batch_size=BATCH_SIZE, shuffle=False,\n",
    "                          num_workers=8, pin_memory=True, persistent_workers=True)\n",
    "\n",
    "# ==== Eğitim değişkenleri ====\n",
    "train_losses, val_losses, lrs = [], [], []\n",
    "train_f1s, val_f1s = [], []\n",
    "best_val = float(\"inf\")\n",
    "best_path = \"phasenet_best_ps.pth\"\n",
    "wait = 0\n",
    "\n",
    "# ==== Eğitim döngüsü ====\n",
    "for epoch in range(1, EPOCHS+1):\n",
    "    model.train()\n",
    "    train_loss, val_loss = 0.0, 0.0\n",
    "    train_true, train_pred = [], []\n",
    "    val_true, val_pred = [], []\n",
    "\n",
    "    # İlk birkaç epoch encoder freeze\n",
    "    if epoch < 4:\n",
    "        for p in model.inc.parameters(): p.requires_grad = False\n",
    "    else:\n",
    "        for p in model.parameters(): p.requires_grad = True\n",
    "\n",
    "    # ---- TRAIN ----\n",
    "    for x, y in tqdm(train_loader, desc=f\"Train {epoch}/{EPOCHS}\", leave=False):\n",
    "        x, y = x.to(device, non_blocking=True), y.to(device, non_blocking=True)\n",
    "        optimizer.zero_grad(set_to_none=True)\n",
    "\n",
    "        with torch.cuda.amp.autocast(enabled=(device.type==\"cuda\")):\n",
    "            logits = model(x)\n",
    "            ce = criterion(logits.permute(0,2,1).reshape(-1,3), y.reshape(-1))\n",
    "            mask = (y > 0)\n",
    "            probs = torch.softmax(logits, dim=1)\n",
    "            noise_penalty = probs[:,0,:][mask].mean()\n",
    "            loss = ce + 0.1 * noise_penalty\n",
    "\n",
    "        scaler.scale(loss).backward()\n",
    "        torch.nn.utils.clip_grad_norm_(model.parameters(), 5.0)\n",
    "        scaler.step(optimizer)\n",
    "        scaler.update()\n",
    "        train_loss += loss.item()\n",
    "\n",
    "        # F1 için\n",
    "        pred = logits.argmax(dim=1)\n",
    "        m = (y > 0)\n",
    "        train_true.append(y[m].detach().cpu().numpy())\n",
    "        train_pred.append(pred[m].detach().cpu().numpy())\n",
    "\n",
    "    train_loss /= len(train_loader)\n",
    "    ttrue = np.concatenate(train_true) if len(train_true) else np.array([])\n",
    "    tpred = np.concatenate(train_pred) if len(train_pred) else np.array([])\n",
    "    train_f1 = f1_score(ttrue, tpred, labels=[1,2], average=\"macro\", zero_division=0) if len(ttrue) else np.nan\n",
    "\n",
    "    # ---- VALIDATION ----\n",
    "    model.eval()\n",
    "    with torch.no_grad():\n",
    "        for x, y in val_loader:\n",
    "            x, y = x.to(device, non_blocking=True), y.to(device, non_blocking=True)\n",
    "            with torch.cuda.amp.autocast(enabled=(device.type==\"cuda\")):\n",
    "                logits = model(x)\n",
    "                ce = criterion(logits.permute(0,2,1).reshape(-1,3), y.reshape(-1))\n",
    "                mask = (y > 0)\n",
    "                probs = torch.softmax(logits, dim=1)\n",
    "                noise_penalty = probs[:,0,:][mask].mean()\n",
    "                loss = ce + 0.1 * noise_penalty\n",
    "            val_loss += loss.item()\n",
    "\n",
    "            pred = logits.argmax(dim=1)\n",
    "            m = (y > 0)\n",
    "            val_true.append(y[m].detach().cpu().numpy())\n",
    "            val_pred.append(pred[m].detach().cpu().numpy())\n",
    "\n",
    "    val_loss /= len(val_loader)\n",
    "    scheduler.step(val_loss)\n",
    "\n",
    "    vtrue = np.concatenate(val_true) if len(val_true) else np.array([])\n",
    "    vpred = np.concatenate(val_pred) if len(val_pred) else np.array([])\n",
    "    val_f1 = f1_score(vtrue, vpred, labels=[1,2], average=\"macro\", zero_division=0) if len(vtrue) else np.nan\n",
    "\n",
    "    train_losses.append(train_loss); val_losses.append(val_loss)\n",
    "    train_f1s.append(train_f1); val_f1s.append(val_f1)\n",
    "    lrs.append(optimizer.param_groups[0]['lr'])\n",
    "\n",
    "    print(f\"[{epoch:02d}] Train: {train_loss:.4f} | Val: {val_loss:.4f} | \"\n",
    "          f\"Train F1: {train_f1:.3f} | Val F1: {val_f1:.3f} | LR: {optimizer.param_groups[0]['lr']:.2e}\")\n",
    "\n",
    "    # ---- Early stopping ----\n",
    "    if val_loss < best_val - 1e-5:\n",
    "        best_val = val_loss\n",
    "        torch.save(model.state_dict(), best_path)\n",
    "        wait = 0\n",
    "    else:\n",
    "        wait += 1\n",
    "        if wait >= PATIENCE:\n",
    "            print(\" Early stopping tetiklendi.\")\n",
    "            break\n",
    "\n",
    "print(f\"\\n En iyi val loss: {best_val:.4f} | Model: {best_path}\")\n",
    "\n",
    "# ==== GRAFİKLER ====\n",
    "plt.figure(figsize=(8,5))\n",
    "plt.plot(train_losses, label=\"Train Loss\"); plt.plot(val_losses, label=\"Val Loss\")\n",
    "plt.xlabel(\"Epoch\"); plt.ylabel(\"Loss\"); plt.legend(); plt.title(\"Loss Curve\"); plt.grid(True); plt.show()\n",
    "\n",
    "plt.figure(figsize=(8,4))\n",
    "plt.plot(train_f1s, label=\"Train F1\"); plt.plot(val_f1s, label=\"Val F1\")\n",
    "plt.xlabel(\"Epoch\"); plt.ylabel(\"F1\"); plt.legend(); plt.title(\"F1 Score Curve\"); plt.grid(True); plt.show()\n",
    "\n",
    "plt.figure(figsize=(8,3))\n",
    "plt.plot(lrs, marker=\"o\"); plt.xlabel(\"Epoch\"); plt.ylabel(\"Learning Rate\")\n",
    "plt.title(\"LR Schedule\"); plt.grid(True); plt.show()\n"
   ]
  },
  {
   "cell_type": "code",
   "execution_count": 9,
   "id": "ab038e23",
   "metadata": {},
   "outputs": [
    {
     "name": "stderr",
     "output_type": "stream",
     "text": [
      "Testing:   0%|          | 0/883 [00:00<?, ?it/s]/tmp/ipykernel_14253/246325389.py:14: FutureWarning: `torch.cuda.amp.autocast(args...)` is deprecated. Please use `torch.amp.autocast('cuda', args...)` instead.\n",
      "  with torch.cuda.amp.autocast(enabled=(device.type == \"cuda\")):\n",
      "                                                           \r"
     ]
    },
    {
     "name": "stdout",
     "output_type": "stream",
     "text": [
      "\n",
      "==== TEST SONUÇLARI ====\n",
      "              precision    recall  f1-score   support\n",
      "\n",
      "           P       0.95      0.97      0.96    577937\n",
      "           S       0.95      0.92      0.93    400614\n",
      "\n",
      "    accuracy                           0.95    978551\n",
      "   macro avg       0.95      0.94      0.95    978551\n",
      "weighted avg       0.95      0.95      0.95    978551\n",
      "\n"
     ]
    },
    {
     "data": {
      "image/png": "[encoded data removed]",
      "text/plain": [
       "<Figure size 400x400 with 2 Axes>"
      ]
     },
     "metadata": {},
     "output_type": "display_data"
    }
   ],
   "source": [
    "#Test döngüsü\n",
    "from sklearn.metrics import classification_report, confusion_matrix\n",
    "import seaborn as sns\n",
    "\n",
    "model.load_state_dict(torch.load(best_path, map_location=device))\n",
    "model.eval()\n",
    "\n",
    "y_true_all, y_pred_all = [], []\n",
    "\n",
    "with torch.no_grad():\n",
    "    for x, y in tqdm(test_loader, desc=\"Testing\", leave=False):\n",
    "        x = x.to(device)\n",
    "        y = y.to(device)\n",
    "        with torch.cuda.amp.autocast(enabled=(device.type == \"cuda\")):\n",
    "            out = model(x)\n",
    "        pred = out.argmax(dim=1)\n",
    "        mask = (y > 0)\n",
    "        y_true_all.append(y[mask].cpu().numpy())\n",
    "        y_pred_all.append(pred[mask].cpu().numpy())\n",
    "\n",
    "y_true_all = np.concatenate(y_true_all)\n",
    "y_pred_all = np.concatenate(y_pred_all)\n",
    "\n",
    "print(\"\\n==== TEST SONUÇLARI ====\")\n",
    "print(classification_report(\n",
    "    y_true_all, y_pred_all,\n",
    "    labels=[1, 2],\n",
    "    target_names=[\"P\", \"S\"],\n",
    "    zero_division=0\n",
    "))\n",
    "\n",
    "# -----------------------------\n",
    "# CONFUSION MATRIX\n",
    "# -----------------------------\n",
    "cm = confusion_matrix(y_true_all, y_pred_all, labels=[1, 2])\n",
    "plt.figure(figsize=(4,4))\n",
    "sns.heatmap(cm, annot=True, fmt=\"d\", cmap=\"Blues\", square=True,\n",
    "            xticklabels=[\"P (pred)\", \"S (pred)\"],\n",
    "            yticklabels=[\"P (true)\", \"S (true)\"])\n",
    "plt.title(\"Confusion Matrix (PhaseNet Test)\", fontsize=13)\n",
    "plt.xlabel(\"Predicted\", fontsize=12)\n",
    "plt.ylabel(\"True\", fontsize=12)\n",
    "plt.show()\n"
   ]
  },
  {
   "cell_type": "code",
   "execution_count": 10,
   "id": "4ba51572",
   "metadata": {},
   "outputs": [
    {
     "name": "stdout",
     "output_type": "stream",
     "text": [
      "==== TEST SONUÇLARI ====\n",
      "Accuracy : 0.9475\n",
      "Precision: 0.9477\n",
      "Recall   : 0.9435\n",
      "F1 Score : 0.9454\n",
      "MAE      : 0.0525\n",
      "MSE      : 0.0525\n",
      "RMSE     : 0.2292\n",
      "\n",
      "              precision    recall  f1-score   support\n",
      "\n",
      "      P-wave       0.95      0.97      0.96    577937\n",
      "      S-wave       0.95      0.92      0.93    400614\n",
      "\n",
      "    accuracy                           0.95    978551\n",
      "   macro avg       0.95      0.94      0.95    978551\n",
      "weighted avg       0.95      0.95      0.95    978551\n",
      "\n"
     ]
    },
    {
     "data": {
      "image/png": "[encoded data removed]",
      "text/plain": [
       "<Figure size 400x400 with 2 Axes>"
      ]
     },
     "metadata": {},
     "output_type": "display_data"
    }
   ],
   "source": [
    "import numpy as np\n",
    "from sklearn.metrics import (accuracy_score, precision_score, recall_score, f1_score,\n",
    "                             mean_absolute_error, mean_squared_error,\n",
    "                             classification_report, confusion_matrix)\n",
    "import seaborn as sns\n",
    "import matplotlib.pyplot as plt\n",
    "\n",
    "# y_true_all ve y_pred_all zaten mevcut olmalı\n",
    "# (örnek: test döngüsünde flatten edip topladığın)\n",
    "# 0=Noise, 1=P, 2=S\n",
    "\n",
    "mask = (y_true_all > 0)  # sadece P ve S\n",
    "y_true_eval = y_true_all[mask]\n",
    "y_pred_eval = y_pred_all[mask]\n",
    "\n",
    "# ---- Sınıflandırma metrikleri ----\n",
    "acc  = accuracy_score(y_true_eval, y_pred_eval)\n",
    "prec = precision_score(y_true_eval, y_pred_eval, average=\"macro\", zero_division=0)\n",
    "rec  = recall_score(y_true_eval, y_pred_eval, average=\"macro\", zero_division=0)\n",
    "f1   = f1_score(y_true_eval, y_pred_eval, average=\"macro\", zero_division=0)\n",
    "\n",
    "# ---- Regresyon tipi hatalar ----\n",
    "mae = mean_absolute_error(y_true_eval, y_pred_eval)\n",
    "mse = mean_squared_error(y_true_eval, y_pred_eval)\n",
    "rmse = np.sqrt(mse)\n",
    "\n",
    "print(\"==== TEST SONUÇLARI ====\")\n",
    "print(f\"Accuracy : {acc:.4f}\")\n",
    "print(f\"Precision: {prec:.4f}\")\n",
    "print(f\"Recall   : {rec:.4f}\")\n",
    "print(f\"F1 Score : {f1:.4f}\")\n",
    "print(f\"MAE      : {mae:.4f}\")\n",
    "print(f\"MSE      : {mse:.4f}\")\n",
    "print(f\"RMSE     : {rmse:.4f}\\n\")\n",
    "\n",
    "# ---- Ayrıntılı rapor ----\n",
    "print(classification_report(y_true_eval, y_pred_eval,\n",
    "                            labels=[1,2],\n",
    "                            target_names=[\"P-wave\",\"S-wave\"],\n",
    "                            zero_division=0))\n",
    "\n",
    "# ---- Confusion Matrix ----\n",
    "cm = confusion_matrix(y_true_eval, y_pred_eval, labels=[1,2])\n",
    "plt.figure(figsize=(4,4))\n",
    "sns.heatmap(cm, annot=True, fmt=\"d\", cmap=\"Blues\", square=True,\n",
    "            xticklabels=[\"P (pred)\", \"S (pred)\"],\n",
    "            yticklabels=[\"P (true)\", \"S (true)\"])\n",
    "plt.title(\"Confusion Matrix (PhaseNet Test)\", fontsize=13)\n",
    "plt.xlabel(\"Predicted\", fontsize=12)\n",
    "plt.ylabel(\"True\", fontsize=12)\n",
    "plt.show()\n"
   ]
  },
  {
   "cell_type": "markdown",
   "id": "f26ad05c",
   "metadata": {},
   "source": [
    "Çalışmamızda, sismik verilerden P ve S dalgalarının tespiti amacıyla önceden eğitilmiş PhaseNet modeli, hazırlanan yerel veri kümesi üzerinde yeniden eğitilmiştir. Modelin performansı, test verileri üzerinde elde edilen çeşitli sınıflandırma ve hata metrikleri ile değerlendirilmiştir. Elde edilen sonuçlar, modelin yüksek genelleme başarısına ve faz ayrımında güvenilir bir performansa sahip olduğunu göstermektedir."
   ]
  },
  {
   "cell_type": "code",
   "execution_count": 13,
   "id": "7230d5da",
   "metadata": {},
   "outputs": [
    {
     "name": "stdout",
     "output_type": "stream",
     "text": [
      "+-------------------+---------+-----------------------------------------------------------------------------------------------------------------------------------------------------------------------------------------------------------------+\n",
      "| Metrik            |   Değer | Yorum                                                                                                                                                                                                           |\n",
      "+===================+=========+=================================================================================================================================================================================================================+\n",
      "| Accuracy          |  0.9475 | Modelin tüm test örnekleri içerisindeki genel doğruluk oranıdır. P ve S dalgalarının yaklaşık %94,75’ini doğru sınıfa yerleştirebilmiştir.                                                                      |\n",
      "+-------------------+---------+-----------------------------------------------------------------------------------------------------------------------------------------------------------------------------------------------------------------+\n",
      "| Precision (macro) |  0.9477 | Modelin P veya S etiketi verdiği örneklerin %94,77’si doğru tahmin edilmiştir. Yanlış pozitif oranı oldukça düşüktür.                                                                                           |\n",
      "+-------------------+---------+-----------------------------------------------------------------------------------------------------------------------------------------------------------------------------------------------------------------+\n",
      "| Recall (macro)    |  0.9435 | Gerçek P ve S örneklerinin %94,35’i doğru şekilde tespit edilmiştir. Modelin duyarlılığı yüksek düzeydedir.                                                                                                     |\n",
      "+-------------------+---------+-----------------------------------------------------------------------------------------------------------------------------------------------------------------------------------------------------------------+\n",
      "| F1 Skoru (macro)  |  0.9454 | Precision ve Recall değerlerinin harmonik ortalaması olup modelin genel dengeleme yeteneğini temsil eder. F1>0.94 seviyesi, faz ayrımı açısından literatürde güçlü bir performans olarak değerlendirilmektedir. |\n",
      "+-------------------+---------+-----------------------------------------------------------------------------------------------------------------------------------------------------------------------------------------------------------------+\n",
      "| MAE               |  0.0525 | Ortalama mutlak hata 0.05 seviyesindedir. Bu, modelin her 20 dalgadan yalnızca birinde yanlış faz tahmini yaptığı anlamına gelir.                                                                               |\n",
      "+-------------------+---------+-----------------------------------------------------------------------------------------------------------------------------------------------------------------------------------------------------------------+\n",
      "| MSE               |  0.0525 | Kare hata değeri düşük olup büyük hataların (örneğin tamamen yanlış faz sınıflandırmaları) nadir gerçekleştiğini gösterir.                                                                                      |\n",
      "+-------------------+---------+-----------------------------------------------------------------------------------------------------------------------------------------------------------------------------------------------------------------+\n",
      "| RMSE              |  0.2292 | Hataların karekök ortalaması da düşük olup, modelin tahminlerinin faz sınırlarına yakın olduğunu göstermektedir.                                                                                                |\n",
      "+-------------------+---------+-----------------------------------------------------------------------------------------------------------------------------------------------------------------------------------------------------------------+\n"
     ]
    },
    {
     "data": {
      "text/html": [
       "<style type=\"text/css\">\n",
       "#T_9afd1_ caption {\n",
       "  caption-side: top;\n",
       "  font-weight: bold;\n",
       "  font-size: 14px;\n",
       "}\n",
       "</style>\n",
       "<table id=\"T_9afd1_\">\n",
       "  <caption>Tablo 1. PhaseNet modelinin test kümesi üzerindeki performans metrikleri.</caption>\n",
       "  <thead>\n",
       "    <tr>\n",
       "      <th class=\"blank level0\" >&nbsp;</th>\n",
       "      <th class=\"col_heading level0 col0\" >Metrik</th>\n",
       "      <th class=\"col_heading level0 col1\" >Değer</th>\n",
       "      <th class=\"col_heading level0 col2\" >Yorum</th>\n",
       "    </tr>\n",
       "  </thead>\n",
       "  <tbody>\n",
       "    <tr>\n",
       "      <th id=\"T_9afd1_level0_row0\" class=\"row_heading level0 row0\" >0</th>\n",
       "      <td id=\"T_9afd1_row0_col0\" class=\"data row0 col0\" >Accuracy</td>\n",
       "      <td id=\"T_9afd1_row0_col1\" class=\"data row0 col1\" >0.947500</td>\n",
       "      <td id=\"T_9afd1_row0_col2\" class=\"data row0 col2\" >Modelin tüm test örnekleri içerisindeki genel doğruluk oranıdır. P ve S dalgalarının yaklaşık %94,75’ini doğru sınıfa yerleştirebilmiştir.</td>\n",
       "    </tr>\n",
       "    <tr>\n",
       "      <th id=\"T_9afd1_level0_row1\" class=\"row_heading level0 row1\" >1</th>\n",
       "      <td id=\"T_9afd1_row1_col0\" class=\"data row1 col0\" >Precision (macro)</td>\n",
       "      <td id=\"T_9afd1_row1_col1\" class=\"data row1 col1\" >0.947700</td>\n",
       "      <td id=\"T_9afd1_row1_col2\" class=\"data row1 col2\" >Modelin P veya S etiketi verdiği örneklerin %94,77’si doğru tahmin edilmiştir. Yanlış pozitif oranı oldukça düşüktür.</td>\n",
       "    </tr>\n",
       "    <tr>\n",
       "      <th id=\"T_9afd1_level0_row2\" class=\"row_heading level0 row2\" >2</th>\n",
       "      <td id=\"T_9afd1_row2_col0\" class=\"data row2 col0\" >Recall (macro)</td>\n",
       "      <td id=\"T_9afd1_row2_col1\" class=\"data row2 col1\" >0.943500</td>\n",
       "      <td id=\"T_9afd1_row2_col2\" class=\"data row2 col2\" >Gerçek P ve S örneklerinin %94,35’i doğru şekilde tespit edilmiştir. Modelin duyarlılığı yüksek düzeydedir.</td>\n",
       "    </tr>\n",
       "    <tr>\n",
       "      <th id=\"T_9afd1_level0_row3\" class=\"row_heading level0 row3\" >3</th>\n",
       "      <td id=\"T_9afd1_row3_col0\" class=\"data row3 col0\" >F1 Skoru (macro)</td>\n",
       "      <td id=\"T_9afd1_row3_col1\" class=\"data row3 col1\" >0.945400</td>\n",
       "      <td id=\"T_9afd1_row3_col2\" class=\"data row3 col2\" >Precision ve Recall değerlerinin harmonik ortalaması olup modelin genel dengeleme yeteneğini temsil eder. F1>0.94 seviyesi, faz ayrımı açısından literatürde güçlü bir performans olarak değerlendirilmektedir.</td>\n",
       "    </tr>\n",
       "    <tr>\n",
       "      <th id=\"T_9afd1_level0_row4\" class=\"row_heading level0 row4\" >4</th>\n",
       "      <td id=\"T_9afd1_row4_col0\" class=\"data row4 col0\" >MAE</td>\n",
       "      <td id=\"T_9afd1_row4_col1\" class=\"data row4 col1\" >0.052500</td>\n",
       "      <td id=\"T_9afd1_row4_col2\" class=\"data row4 col2\" >Ortalama mutlak hata 0.05 seviyesindedir. Bu, modelin her 20 dalgadan yalnızca birinde yanlış faz tahmini yaptığı anlamına gelir.</td>\n",
       "    </tr>\n",
       "    <tr>\n",
       "      <th id=\"T_9afd1_level0_row5\" class=\"row_heading level0 row5\" >5</th>\n",
       "      <td id=\"T_9afd1_row5_col0\" class=\"data row5 col0\" >MSE</td>\n",
       "      <td id=\"T_9afd1_row5_col1\" class=\"data row5 col1\" >0.052500</td>\n",
       "      <td id=\"T_9afd1_row5_col2\" class=\"data row5 col2\" >Kare hata değeri düşük olup büyük hataların (örneğin tamamen yanlış faz sınıflandırmaları) nadir gerçekleştiğini gösterir.</td>\n",
       "    </tr>\n",
       "    <tr>\n",
       "      <th id=\"T_9afd1_level0_row6\" class=\"row_heading level0 row6\" >6</th>\n",
       "      <td id=\"T_9afd1_row6_col0\" class=\"data row6 col0\" >RMSE</td>\n",
       "      <td id=\"T_9afd1_row6_col1\" class=\"data row6 col1\" >0.229200</td>\n",
       "      <td id=\"T_9afd1_row6_col2\" class=\"data row6 col2\" >Hataların karekök ortalaması da düşük olup, modelin tahminlerinin faz sınırlarına yakın olduğunu göstermektedir.</td>\n",
       "    </tr>\n",
       "  </tbody>\n",
       "</table>\n"
      ],
      "text/plain": [
       "<pandas.io.formats.style.Styler at 0x7f174be0d120>"
      ]
     },
     "execution_count": 13,
     "metadata": {},
     "output_type": "execute_result"
    }
   ],
   "source": [
    "import pandas as pd\n",
    "from tabulate import tabulate\n",
    "\n",
    "# Metrix verilerini dictionary olarak tanımla\n",
    "data = {\n",
    "    \"Metrik\": [\n",
    "        \"Accuracy\",\n",
    "        \"Precision (macro)\",\n",
    "        \"Recall (macro)\",\n",
    "        \"F1 Skoru (macro)\",\n",
    "        \"MAE\",\n",
    "        \"MSE\",\n",
    "        \"RMSE\"\n",
    "    ],\n",
    "    \"Değer\": [\n",
    "        0.9475,\n",
    "        0.9477,\n",
    "        0.9435,\n",
    "        0.9454,\n",
    "        0.0525,\n",
    "        0.0525,\n",
    "        0.2292\n",
    "    ],\n",
    "    \"Yorum\": [\n",
    "        \"Modelin tüm test örnekleri içerisindeki genel doğruluk oranıdır. P ve S dalgalarının yaklaşık %94,75’ini doğru sınıfa yerleştirebilmiştir.\",\n",
    "        \"Modelin P veya S etiketi verdiği örneklerin %94,77’si doğru tahmin edilmiştir. Yanlış pozitif oranı oldukça düşüktür.\",\n",
    "        \"Gerçek P ve S örneklerinin %94,35’i doğru şekilde tespit edilmiştir. Modelin duyarlılığı yüksek düzeydedir.\",\n",
    "        \"Precision ve Recall değerlerinin harmonik ortalaması olup modelin genel dengeleme yeteneğini temsil eder. F1>0.94 seviyesi, faz ayrımı açısından literatürde güçlü bir performans olarak değerlendirilmektedir.\",\n",
    "        \"Ortalama mutlak hata 0.05 seviyesindedir. Bu, modelin her 20 dalgadan yalnızca birinde yanlış faz tahmini yaptığı anlamına gelir.\",\n",
    "        \"Kare hata değeri düşük olup büyük hataların (örneğin tamamen yanlış faz sınıflandırmaları) nadir gerçekleştiğini gösterir.\",\n",
    "        \"Hataların karekök ortalaması da düşük olup, modelin tahminlerinin faz sınırlarına yakın olduğunu göstermektedir.\"\n",
    "    ]\n",
    "}\n",
    "\n",
    "# DataFrame oluştur\n",
    "df = pd.DataFrame(data)\n",
    "\n",
    "# Konsolda güzel biçimli görünüm\n",
    "print(tabulate(df, headers=\"keys\", tablefmt=\"grid\", showindex=False))\n",
    "\n",
    "# (Opsiyonel) Jupyter için stilize HTML tablo\n",
    "df.style.set_caption(\"Tablo 1. PhaseNet modelinin test kümesi üzerindeki performans metrikleri.\") \\\n",
    "         .set_table_styles([{\n",
    "             'selector': 'caption',\n",
    "             'props': [('caption-side', 'top'), ('font-weight', 'bold'), ('font-size', '14px')]\n",
    "         }])\n"
   ]
  },
  {
   "cell_type": "code",
   "execution_count": null,
   "id": "67749aeb",
   "metadata": {},
   "outputs": [],
   "source": []
  }
 ],
 "metadata": {
  "kernelspec": {
   "display_name": "Python 3",
   "language": "python",
   "name": "python3"
  },
  "language_info": {
   "codemirror_mode": {
    "name": "ipython",
    "version": 3
   },
   "file_extension": ".py",
   "mimetype": "text/x-python",
   "name": "python",
   "nbconvert_exporter": "python",
   "pygments_lexer": "ipython3",
   "version": "3.10.12"
  }
 },
 "nbformat": 4,
 "nbformat_minor": 5
}
